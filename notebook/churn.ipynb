{
 "cells": [
  {
   "cell_type": "code",
   "execution_count": 127,
   "metadata": {
    "colab": {
     "base_uri": "https://localhost:8080/"
    },
    "id": "B3rujWXU7XnQ",
    "outputId": "bc7777fc-c9d0-452a-88c9-97d073768d8f"
   },
   "outputs": [],
   "source": [
    "# Import necessary libraries\n",
    "import pandas as pd\n",
    "import numpy as np\n",
    "import matplotlib.pyplot as plt\n",
    "import seaborn as sns\n",
    "from sklearn.cluster import KMeans"
   ]
  },
  {
   "cell_type": "code",
   "execution_count": 128,
   "metadata": {
    "id": "w7CY1AEg7bNm"
   },
   "outputs": [],
   "source": [
    "# Specify the file path\n",
    "file_path = r\"C:\\Users\\Adminpc2\\Downloads\\WA_Fn-UseC_-Telco-Customer-Churn.csv\"\n",
    "\n",
    "# Read the CSV file\n",
    "df = pd.read_csv(file_path)"
   ]
  },
  {
   "cell_type": "markdown",
   "metadata": {
    "id": "0sGMuARC7t9g"
   },
   "source": [
    "## Exploratory Data Analysis\n",
    "\n",
    "### Remember:\n",
    "\n",
    "The goal of exploratory data analysis is to understand the main characteristics of your data, uncover relationships between different variables, and extract important variables for the problem you’re trying to solve."
   ]
  },
  {
   "cell_type": "code",
   "execution_count": 129,
   "metadata": {
    "colab": {
     "base_uri": "https://localhost:8080/"
    },
    "id": "g4h2dfe27ynF",
    "outputId": "b55f932a-3326-4702-de66-b71f3c9b63ea"
   },
   "outputs": [
    {
     "name": "stdout",
     "output_type": "stream",
     "text": [
      "   customerID  gender  SeniorCitizen Partner Dependents  tenure PhoneService  \\\n",
      "0  7590-VHVEG  Female              0     Yes         No       1           No   \n",
      "1  5575-GNVDE    Male              0      No         No      34          Yes   \n",
      "2  3668-QPYBK    Male              0      No         No       2          Yes   \n",
      "3  7795-CFOCW    Male              0      No         No      45           No   \n",
      "4  9237-HQITU  Female              0      No         No       2          Yes   \n",
      "\n",
      "      MultipleLines InternetService OnlineSecurity  ... DeviceProtection  \\\n",
      "0  No phone service             DSL             No  ...               No   \n",
      "1                No             DSL            Yes  ...              Yes   \n",
      "2                No             DSL            Yes  ...               No   \n",
      "3  No phone service             DSL            Yes  ...              Yes   \n",
      "4                No     Fiber optic             No  ...               No   \n",
      "\n",
      "  TechSupport StreamingTV StreamingMovies        Contract PaperlessBilling  \\\n",
      "0          No          No              No  Month-to-month              Yes   \n",
      "1          No          No              No        One year               No   \n",
      "2          No          No              No  Month-to-month              Yes   \n",
      "3         Yes          No              No        One year               No   \n",
      "4          No          No              No  Month-to-month              Yes   \n",
      "\n",
      "               PaymentMethod MonthlyCharges  TotalCharges Churn  \n",
      "0           Electronic check          29.85         29.85    No  \n",
      "1               Mailed check          56.95        1889.5    No  \n",
      "2               Mailed check          53.85        108.15   Yes  \n",
      "3  Bank transfer (automatic)          42.30       1840.75    No  \n",
      "4           Electronic check          70.70        151.65   Yes  \n",
      "\n",
      "[5 rows x 21 columns]\n"
     ]
    }
   ],
   "source": [
    "# Display the first few rows of the dataset to understand its structure and contents\n",
    "print(df.head())"
   ]
  },
  {
   "cell_type": "code",
   "execution_count": 123,
   "metadata": {},
   "outputs": [
    {
     "data": {
      "text/plain": [
       "array(['DSL', 'Fiber optic', 'No'], dtype=object)"
      ]
     },
     "execution_count": 123,
     "metadata": {},
     "output_type": "execute_result"
    }
   ],
   "source": [
    "# Convert the dictionary into DataFrame\n",
    "df2 = pd.DataFrame(df)\n",
    "\n",
    "# Get the unique values of 'B' column\n",
    "df2.InternetService.unique()"
   ]
  },
  {
   "cell_type": "code",
   "execution_count": 56,
   "metadata": {},
   "outputs": [
    {
     "name": "stdout",
     "output_type": "stream",
     "text": [
      "Missing values per column:\n",
      "customerID          0\n",
      "gender              0\n",
      "SeniorCitizen       0\n",
      "Partner             0\n",
      "Dependents          0\n",
      "tenure              0\n",
      "PhoneService        0\n",
      "MultipleLines       0\n",
      "InternetService     0\n",
      "OnlineSecurity      0\n",
      "OnlineBackup        0\n",
      "DeviceProtection    0\n",
      "TechSupport         0\n",
      "StreamingTV         0\n",
      "StreamingMovies     0\n",
      "Contract            0\n",
      "PaperlessBilling    0\n",
      "PaymentMethod       0\n",
      "MonthlyCharges      0\n",
      "TotalCharges        0\n",
      "Churn               0\n",
      "dtype: int64\n"
     ]
    }
   ],
   "source": [
    "# Assuming 'df_final' is your DataFrame\n",
    "# Check for NaN values in each column\n",
    "nan_counts = df.isnull().sum()\n",
    "\n",
    "# Print the results\n",
    "print(\"Missing values per column:\")\n",
    "print(nan_counts)"
   ]
  },
  {
   "cell_type": "markdown",
   "metadata": {},
   "source": [
    "## Identify the different Data types to exclude from Encoding later\n",
    "\n",
    "If you identify that there is a **numerical value** in the dataframe that is not being printed out by the code below its probably formated to another datatype, that means you have to treat it early.\n",
    "\n",
    "For Example: The **\"TotalCharges\"** Column it does not show up, but the table clears show it as a numerical"
   ]
  },
  {
   "cell_type": "code",
   "execution_count": 57,
   "metadata": {},
   "outputs": [
    {
     "name": "stdout",
     "output_type": "stream",
     "text": [
      "['SeniorCitizen']\n"
     ]
    }
   ],
   "source": [
    "#Binary values\n",
    "binary_columns = [col for col in df.columns if df[col].dropna().value_counts().index.isin([0,1]).all()]\n",
    "print(binary_columns)"
   ]
  },
  {
   "cell_type": "code",
   "execution_count": 58,
   "metadata": {},
   "outputs": [
    {
     "name": "stdout",
     "output_type": "stream",
     "text": [
      "Float columns:\n",
      "Index(['MonthlyCharges'], dtype='object')\n"
     ]
    }
   ],
   "source": [
    "# Print out the float columns\n",
    "float_columns = df.select_dtypes(include=['float64']).columns\n",
    "print(\"Float columns:\")\n",
    "print(float_columns)"
   ]
  },
  {
   "cell_type": "code",
   "execution_count": 59,
   "metadata": {},
   "outputs": [
    {
     "name": "stdout",
     "output_type": "stream",
     "text": [
      "\n",
      "Integer columns:\n",
      "Index(['SeniorCitizen', 'tenure'], dtype='object')\n"
     ]
    }
   ],
   "source": [
    "# Print out the int columns\n",
    "int_columns = df.select_dtypes(include=['int64']).columns\n",
    "print(\"\\nInteger columns:\")\n",
    "print(int_columns)"
   ]
  },
  {
   "cell_type": "code",
   "execution_count": 60,
   "metadata": {},
   "outputs": [],
   "source": [
    "# Exclude ‘Churn’ and 'TotalCharges' from the list of columns to be one-hot encoded\n",
    "# categorical_cols = [col for col in df.select_dtypes(include=['object']).columns.tolist() if col not in ['SeniorCitizen','Churn','MonthlyCharges','SeniorCitizen', 'tenure']]"
   ]
  },
  {
   "cell_type": "markdown",
   "metadata": {
    "id": "d1OMb019-hYU"
   },
   "source": [
    "### Summery Statistics\n",
    "\n",
    "Summery statistics provide a quick overview of the distribution of values in a column.\n",
    "\n",
    "### Here’s a breakdown of what each term means:\n",
    "\n",
    "**Count:** This is the total number of non-null observations in the column.\n",
    "\n",
    "**Mean:** This is the average of all the numbers in the column. It’s calculated by adding up all the values and then dividing by the count.\n",
    "\n",
    "**Std (Standard Deviation):** This measures the amount of variation or dispersion in the column’s values. A low standard deviation means that the values tend to be close to the mean, while a high standard deviation indicates that the values are spread out over a wider range.\n",
    "\n",
    "**Min (Minimum):** This is the smallest value in the column.\n",
    "25% (First Quartile): 25% of the data in the column is below this value. It’s also known as the lower quartile.\n",
    "\n",
    "**50% (Median/Second Quartile):** This is the middle value of the column when it’s sorted in ascending order. If there’s an even number of observations, the median is the average of the two middle numbers. 50% of the data in the column is below this value.\n",
    "\n",
    "**75% (Third Quartile):** 75% of the data in the column is below this value. It’s also known as the upper quartile.\n",
    "Max (Maximum): This is the largest value in the column."
   ]
  },
  {
   "cell_type": "code",
   "execution_count": 61,
   "metadata": {
    "colab": {
     "base_uri": "https://localhost:8080/"
    },
    "id": "IPItUbPN8LzW",
    "outputId": "73ae16a1-bd4f-4961-9b65-a5a1f993f4b5"
   },
   "outputs": [
    {
     "name": "stdout",
     "output_type": "stream",
     "text": [
      "       SeniorCitizen       tenure  MonthlyCharges\n",
      "count    7043.000000  7043.000000     7043.000000\n",
      "mean        0.162147    32.371149       64.761692\n",
      "std         0.368612    24.559481       30.090047\n",
      "min         0.000000     0.000000       18.250000\n",
      "25%         0.000000     9.000000       35.500000\n",
      "50%         0.000000    29.000000       70.350000\n",
      "75%         0.000000    55.000000       89.850000\n",
      "max         1.000000    72.000000      118.750000\n"
     ]
    }
   ],
   "source": [
    "# Get the summary statistics of the numerical columns\n",
    "print(df.describe())"
   ]
  },
  {
   "cell_type": "markdown",
   "metadata": {
    "id": "a2zIptoD_O1-"
   },
   "source": [
    "### Here are some additional insights that can be gleaned from summary statistics:\n",
    "\n",
    "**Outliers:** If there’s a significant difference between the max (maximum) or min (minimum) value and the 75% (third quartile) or 25% (first quartile) respectively, it might suggest the presence of outliers in your data. Outliers are extreme values that fall far outside the range of the rest of the data.\n",
    "\n",
    "**Spread of Data:** The std (standard deviation) can give you a sense of how spread out your data is. If the standard deviation is small, it means that most of your data is clustered around the mean. If it’s large, your data is spread out and varies a lot.\n",
    "\n",
    "**Skewness:** As you mentioned, if the mean is greater than the median, the data is right-skewed, which means there are a minority of very large values. If the mean is less than the median, the data is left-skewed, indicating a minority of very small values.\n",
    "\n",
    "**IQR (Interquartile Range):** The IQR, which is the difference between the 75% and 25% quartiles, represents the middle 50% of the data. This can give you a sense of the “typical” range of your data, as it’s not influenced by potential outliers.\n",
    "\n",
    "**Zero Values:** If the min (minimum) value is zero, especially for features where a zero might be meaningful, it’s worth investigating why. Are these true zero values, or do they represent missing or undefined data?\n",
    "\n",
    "Remember, these are just general guidelines and may not apply to every dataset or column. It’s always important to understand your data and the context in which it was collected."
   ]
  },
  {
   "cell_type": "markdown",
   "metadata": {
    "id": "75APrdR-DBey"
   },
   "source": [
    "### Let’s apply these concepts to the summary statistics you provided:\n",
    "\n",
    "**Outliers:** For tenure and MonthlyCharges, the difference between the max and the 75% quartile is not significantly large, suggesting there might not be extreme high values. However, without a boxplot or further analysis, it’s hard to definitively say whether there are outliers.\n",
    "\n",
    "**Spread of Data:** The std (standard deviation) for tenure and MonthlyCharges is relatively high, indicating that the data is spread out and varies a lot. For SeniorCitizen, since it’s a binary variable, the standard deviation doesn’t provide much insight.\n",
    "\n",
    "**Skewness:** For tenure, the mean is slightly greater than the median, suggesting a slight right skew. For MonthlyCharges, the mean is less than the median, suggesting a slight left skew. SeniorCitizen is a binary variable, so skewness doesn’t apply here.\n",
    "\n",
    "**IQR (Interquartile Range):** For tenure, the IQR is 55 - 9 = 46, and for MonthlyCharges, the IQR is 89.85 - 35.5 = 54.35. These ranges represent the middle 50% of the data and can give you a sense of the “typical” range of your data.\n",
    "\n",
    "**Zero Values:** The min value for SeniorCitizen and tenure is zero. For SeniorCitizen, this is expected as it’s a binary variable (0 or 1). For tenure, a zero might indicate new customers who just joined.\n",
    "\n",
    "Remember, these are just general interpretations based on the summary statistics. For a more accurate understanding, you would need to visualize the data and perform further analyses."
   ]
  },
  {
   "cell_type": "markdown",
   "metadata": {
    "id": "SI7qWg2dDO2n"
   },
   "source": [
    "### Here are a few more observations that can be made from the summary statistics:\n",
    "\n",
    "**SeniorCitizen:** As this is a binary variable (values are 0 or 1), the mean value of 0.162 suggests that about 16.2% of the customers are senior citizens. This could be useful in understanding the demographic of your customer base.\n",
    "\n",
    "**tenure:** The maximum value is 72, which could mean that the company has been in business for 6 years (72 months) and they have customers who’ve been with them since the beginning. The minimum value of 0 could represent new customers. The mean value (32.37) being greater than the median (29) suggests that the tenure distribution might be slightly right-skewed, indicating a relatively higher number of customers with shorter tenures.\n",
    "\n",
    "**MonthlyCharges:** The minimum charge of **18.25** and maximum of **118.75** shows the range of different pricing plans that might be available. The mean (average) monthly charge is **64.76**, but the median is **70.35**, suggesting that more than half of the customers pay above the average monthly charge."
   ]
  },
  {
   "cell_type": "markdown",
   "metadata": {
    "id": "p2bkXjYlSZkq"
   },
   "source": [
    "## Box Plot"
   ]
  },
  {
   "cell_type": "code",
   "execution_count": 230,
   "metadata": {
    "colab": {
     "base_uri": "https://localhost:8080/",
     "height": 487
    },
    "id": "Nm6T-_D2BW1d",
    "outputId": "3c7d663a-71a6-44c7-cbb0-08167ff2c66a"
   },
   "outputs": [
    {
     "data": {
      "image/png": "[encoded data removed]",
      "text/plain": [
       "<Figure size 640x480 with 2 Axes>"
      ]
     },
     "metadata": {},
     "output_type": "display_data"
    }
   ],
   "source": [
    "# Create a figure instance and a grid of subplots\n",
    "fig, axes = plt.subplots(nrows=1, ncols=2)\n",
    "\n",
    "# Create boxplot for 'tenure'\n",
    "sns.boxplot(x=df['tenure'], ax=axes[0])\n",
    "axes[0].set_title('Box plot for Tenure')\n",
    "\n",
    "# Create boxplot for 'MonthlyCharges'\n",
    "sns.boxplot(x=df['MonthlyCharges'], ax=axes[1])\n",
    "axes[1].set_title('Box plot for Monthly Charges')\n",
    "\n",
    "# Display the plots\n",
    "plt.tight_layout()\n",
    "plt.show()"
   ]
  },
  {
   "cell_type": "code",
   "execution_count": 231,
   "metadata": {
    "colab": {
     "base_uri": "https://localhost:8080/",
     "height": 487
    },
    "id": "paXUvnNtINGl",
    "outputId": "eb35d1f6-0ff7-4d92-9e5c-bd19f669406c"
   },
   "outputs": [
    {
     "data": {
      "image/png": "[encoded data removed]",
      "text/plain": [
       "<Figure size 640x480 with 2 Axes>"
      ]
     },
     "metadata": {},
     "output_type": "display_data"
    }
   ],
   "source": [
    "# Create a figure instance and a grid of subplots\n",
    "fig, axes = plt.subplots(nrows=1, ncols=2)\n",
    "\n",
    "# Create boxplot for 'tenure'\n",
    "sns.boxplot(x=df['tenure'], ax=axes[0])\n",
    "axes[0].set_title('Box plot for Tenure')\n",
    "\n",
    "# Create boxplot for 'MonthlyCharges'\n",
    "sns.boxplot(x=df['MonthlyCharges'], ax=axes[1])\n",
    "axes[1].set_title('Box plot for Monthly Charges')\n",
    "\n",
    "# Add annotations for quartiles, median, and whiskers\n",
    "for i, column in enumerate(['tenure', 'MonthlyCharges']):\n",
    "    # Calculate quartiles and whiskers\n",
    "    Q1 = df[column].quantile(0.25)\n",
    "    Q3 = df[column].quantile(0.75)\n",
    "    IQR = Q3 - Q1\n",
    "    lower_whisker = df[column].quantile(0.25) - 1.5*IQR\n",
    "    upper_whisker = df[column].quantile(0.75) + 1.5*IQR\n",
    "    median = df[column].median()\n",
    "\n",
    "    # Add annotations for quartiles, median, and whiskers\n",
    "    axes[i].annotate('Q1', xy=(Q1, 0), xytext=(Q1, -0.2), arrowprops=dict(facecolor='black', arrowstyle='->'))\n",
    "    axes[i].annotate('Q3', xy=(Q3, 0), xytext=(Q3, -0.2), arrowprops=dict(facecolor='black', arrowstyle='->'))\n",
    "    axes[i].annotate('Median', xy=(median, 0), xytext=(median, -0.2), arrowprops=dict(facecolor='black', arrowstyle='->'))\n",
    "    axes[i].annotate('Lower Whisker', xy=(lower_whisker, 0), xytext=(lower_whisker, -0.2), arrowprops=dict(facecolor='black', arrowstyle='->'))\n",
    "    axes[i].annotate('Upper Whisker', xy=(upper_whisker, 0), xytext=(upper_whisker, -0.2), arrowprops=dict(facecolor='black', arrowstyle='->'))\n",
    "\n",
    "# Display the plots\n",
    "plt.tight_layout()\n",
    "plt.show()"
   ]
  },
  {
   "cell_type": "markdown",
   "metadata": {
    "id": "b9b_YWV_KsPb"
   },
   "source": [
    "### A guide you on how to interpret the box plot:\n",
    "\n",
    "**The box:** The central box represents the values from the lower to upper quartile (Q1 to Q3). The range of values in the box is also known as the Inter-Quartile Range (IQR).\n",
    "\n",
    "**Minimum (Lower Whisker):** This is the smallest data point excluding any outliers. It’s the leftmost or bottommost point of the whisker.\n",
    "First Quartile (Q1): This is the 25th percentile of the data. It’s the left or bottom line of the box.\n",
    "\n",
    "**Median (Q2):** This is the 50th percentile or the middle of the dataset. It’s the line inside the box. If this line is not in the center of the box, it suggests that your data is skewed.\n",
    "\n",
    "**Third Quartile (Q3):** This is the 75th percentile of the data. It’s the right or top line of the box.\n",
    "\n",
    "**Maximum (Upper Whisker):** This is the largest data point excluding any outliers. It’s the rightmost or topmost point of the whisker.\n",
    "\n",
    "**Outliers:** These are individual points that fall outside of the whiskers. They’re usually represented as dots or asterisks.\n",
    "\n",
    "To calculate these values, you can use the describe() function in pandas, which will give you the min, 25%, 50%, 75%, and max values (corresponding to the lower whisker, Q1, median, Q3, and upper whisker of the box plot).  \n",
    "\n",
    "**Remember:** Outliers could indicate variability in the data, errors, or important but rare events."
   ]
  },
  {
   "cell_type": "code",
   "execution_count": 62,
   "metadata": {
    "colab": {
     "base_uri": "https://localhost:8080/"
    },
    "id": "W6wR2s39QxO-",
    "outputId": "32dbc7f4-02b1-4a92-8cf2-253790c1336f"
   },
   "outputs": [
    {
     "name": "stdout",
     "output_type": "stream",
     "text": [
      "(7043, 21)\n"
     ]
    }
   ],
   "source": [
    "print(df.shape) # print shape of dataframe"
   ]
  },
  {
   "cell_type": "code",
   "execution_count": 63,
   "metadata": {
    "colab": {
     "base_uri": "https://localhost:8080/"
    },
    "id": "UrUcyF65Qzw0",
    "outputId": "106633a0-88e5-4c8c-af03-c9243a2c87fd"
   },
   "outputs": [
    {
     "name": "stdout",
     "output_type": "stream",
     "text": [
      "<class 'pandas.core.frame.DataFrame'>\n",
      "RangeIndex: 7043 entries, 0 to 7042\n",
      "Data columns (total 21 columns):\n",
      " #   Column            Non-Null Count  Dtype  \n",
      "---  ------            --------------  -----  \n",
      " 0   customerID        7043 non-null   object \n",
      " 1   gender            7043 non-null   object \n",
      " 2   SeniorCitizen     7043 non-null   int64  \n",
      " 3   Partner           7043 non-null   object \n",
      " 4   Dependents        7043 non-null   object \n",
      " 5   tenure            7043 non-null   int64  \n",
      " 6   PhoneService      7043 non-null   object \n",
      " 7   MultipleLines     7043 non-null   object \n",
      " 8   InternetService   7043 non-null   object \n",
      " 9   OnlineSecurity    7043 non-null   object \n",
      " 10  OnlineBackup      7043 non-null   object \n",
      " 11  DeviceProtection  7043 non-null   object \n",
      " 12  TechSupport       7043 non-null   object \n",
      " 13  StreamingTV       7043 non-null   object \n",
      " 14  StreamingMovies   7043 non-null   object \n",
      " 15  Contract          7043 non-null   object \n",
      " 16  PaperlessBilling  7043 non-null   object \n",
      " 17  PaymentMethod     7043 non-null   object \n",
      " 18  MonthlyCharges    7043 non-null   float64\n",
      " 19  TotalCharges      7043 non-null   object \n",
      " 20  Churn             7043 non-null   object \n",
      "dtypes: float64(1), int64(2), object(18)\n",
      "memory usage: 1.1+ MB\n",
      "None\n"
     ]
    }
   ],
   "source": [
    "print(df.info()) # print concise summary of dataframe"
   ]
  },
  {
   "cell_type": "code",
   "execution_count": 64,
   "metadata": {
    "colab": {
     "base_uri": "https://localhost:8080/"
    },
    "id": "yAtffoujRHJW",
    "outputId": "5875b77d-5f29-4ea0-913d-02f9a01030c6"
   },
   "outputs": [
    {
     "name": "stdout",
     "output_type": "stream",
     "text": [
      "customerID           object\n",
      "gender               object\n",
      "SeniorCitizen         int64\n",
      "Partner              object\n",
      "Dependents           object\n",
      "tenure                int64\n",
      "PhoneService         object\n",
      "MultipleLines        object\n",
      "InternetService      object\n",
      "OnlineSecurity       object\n",
      "OnlineBackup         object\n",
      "DeviceProtection     object\n",
      "TechSupport          object\n",
      "StreamingTV          object\n",
      "StreamingMovies      object\n",
      "Contract             object\n",
      "PaperlessBilling     object\n",
      "PaymentMethod        object\n",
      "MonthlyCharges      float64\n",
      "TotalCharges         object\n",
      "Churn                object\n",
      "dtype: object\n"
     ]
    }
   ],
   "source": [
    "print(df.dtypes) # print data types of each column"
   ]
  },
  {
   "cell_type": "code",
   "execution_count": 65,
   "metadata": {
    "colab": {
     "base_uri": "https://localhost:8080/"
    },
    "id": "_FiWMFOCTKVc",
    "outputId": "54071af2-c1c9-4e24-9c44-3cb67dd7abcd"
   },
   "outputs": [],
   "source": [
    "# Count number of numerical values for each numerical feature\n",
    "for col in df.columns:\n",
    "    if df[col].dtype == 'int':\n",
    "        print(f\"{col}: {df[col].nunique()} numerical values\")"
   ]
  },
  {
   "cell_type": "code",
   "execution_count": 67,
   "metadata": {
    "colab": {
     "base_uri": "https://localhost:8080/"
    },
    "id": "bPqQetehTXZF",
    "outputId": "35200036-c5e8-4a1d-b63d-3085e806edc2"
   },
   "outputs": [
    {
     "name": "stdout",
     "output_type": "stream",
     "text": [
      "MonthlyCharges: 1585 float values\n"
     ]
    }
   ],
   "source": [
    "# Count number of float values for each float feature\n",
    "for col in df.columns:\n",
    "    if df[col].dtype == 'float':\n",
    "        print(f\"{col}: {df[col].nunique()} float values\")"
   ]
  },
  {
   "cell_type": "code",
   "execution_count": 68,
   "metadata": {
    "colab": {
     "base_uri": "https://localhost:8080/"
    },
    "id": "rZPpW80bR1i9",
    "outputId": "d532c759-4da8-4acf-e8de-004bbe3d952a"
   },
   "outputs": [
    {
     "name": "stdout",
     "output_type": "stream",
     "text": [
      "customerID: 7043 categorical values\n",
      "gender: 2 categorical values\n",
      "Partner: 2 categorical values\n",
      "Dependents: 2 categorical values\n",
      "PhoneService: 2 categorical values\n",
      "MultipleLines: 3 categorical values\n",
      "InternetService: 3 categorical values\n",
      "OnlineSecurity: 3 categorical values\n",
      "OnlineBackup: 3 categorical values\n",
      "DeviceProtection: 3 categorical values\n",
      "TechSupport: 3 categorical values\n",
      "StreamingTV: 3 categorical values\n",
      "StreamingMovies: 3 categorical values\n",
      "Contract: 3 categorical values\n",
      "PaperlessBilling: 2 categorical values\n",
      "PaymentMethod: 4 categorical values\n",
      "TotalCharges: 6531 categorical values\n",
      "Churn: 2 categorical values\n"
     ]
    }
   ],
   "source": [
    "# Count number of categorical values for each categorical feature\n",
    "for col in df.columns:\n",
    "    if df[col].dtype == 'object':\n",
    "        print(f\"{col}: {df[col].nunique()} categorical values\")\n"
   ]
  },
  {
   "cell_type": "markdown",
   "metadata": {
    "id": "d6gEc03VXHvF"
   },
   "source": [
    "## Preprocessing"
   ]
  },
  {
   "cell_type": "code",
   "execution_count": 130,
   "metadata": {
    "id": "AY9qcDaPdbfT"
   },
   "outputs": [],
   "source": [
    "# cahnge the target column to binary\n",
    "df['Churn'] = df['Churn'].map({'Yes': 1, 'No': 0})"
   ]
  },
  {
   "cell_type": "code",
   "execution_count": 131,
   "metadata": {},
   "outputs": [
    {
     "name": "stdout",
     "output_type": "stream",
     "text": [
      "   customerID  gender  SeniorCitizen Partner Dependents  tenure PhoneService  \\\n",
      "0  7590-VHVEG  Female              0     Yes         No       1           No   \n",
      "1  5575-GNVDE    Male              0      No         No      34          Yes   \n",
      "2  3668-QPYBK    Male              0      No         No       2          Yes   \n",
      "3  7795-CFOCW    Male              0      No         No      45           No   \n",
      "4  9237-HQITU  Female              0      No         No       2          Yes   \n",
      "\n",
      "      MultipleLines InternetService OnlineSecurity  ... DeviceProtection  \\\n",
      "0  No phone service             DSL             No  ...               No   \n",
      "1                No             DSL            Yes  ...              Yes   \n",
      "2                No             DSL            Yes  ...               No   \n",
      "3  No phone service             DSL            Yes  ...              Yes   \n",
      "4                No     Fiber optic             No  ...               No   \n",
      "\n",
      "  TechSupport StreamingTV StreamingMovies        Contract PaperlessBilling  \\\n",
      "0          No          No              No  Month-to-month              Yes   \n",
      "1          No          No              No        One year               No   \n",
      "2          No          No              No  Month-to-month              Yes   \n",
      "3         Yes          No              No        One year               No   \n",
      "4          No          No              No  Month-to-month              Yes   \n",
      "\n",
      "               PaymentMethod MonthlyCharges  TotalCharges Churn  \n",
      "0           Electronic check          29.85         29.85     0  \n",
      "1               Mailed check          56.95        1889.5     0  \n",
      "2               Mailed check          53.85        108.15     1  \n",
      "3  Bank transfer (automatic)          42.30       1840.75     0  \n",
      "4           Electronic check          70.70        151.65     1  \n",
      "\n",
      "[5 rows x 21 columns]\n"
     ]
    }
   ],
   "source": [
    "# Display the first few rows of the dataset to understand its structure and contents\n",
    "print(df.head())"
   ]
  },
  {
   "cell_type": "code",
   "execution_count": 132,
   "metadata": {
    "id": "T0GCspZ9Zz19"
   },
   "outputs": [],
   "source": [
    "from sklearn.preprocessing import OneHotEncoder\n",
    "# Assuming df is your DataFrame\n",
    "df = df.drop(columns=['customerID'])\n",
    "\n",
    "# Initialize OneHotEncoder\n",
    "encoder = OneHotEncoder()\n",
    "\n",
    "# Exclude ‘Churn’ and 'MonthlyCharges' from the list of columns to be one-hot encoded\n",
    "categorical_cols = [col for col in df.select_dtypes(include=['object']).columns.tolist() if col not in ['SeniorCitizen', 'Churn', 'MonthlyCharges', 'tenure', 'TotalCharges']]\n",
    "\n",
    "\n",
    "# Apply OneHotEncoder to categorical columns - output is no longer a dataframe: df_encoded\n",
    "df_encoded = pd.DataFrame(encoder.fit_transform(df[categorical_cols]).toarray())\n",
    "\n",
    "# Retrieve column names for categorical data\n",
    "df_encoded.columns = encoder.get_feature_names_out(categorical_cols)\n",
    "\n",
    "# Drop categorical columns from original df\n",
    "df.drop(categorical_cols, axis=1, inplace=True)\n",
    "\n",
    "# Merge the two dataframes using concat\n",
    "df_final = pd.concat([df, df_encoded], axis=1)"
   ]
  },
  {
   "cell_type": "code",
   "execution_count": 133,
   "metadata": {
    "colab": {
     "base_uri": "https://localhost:8080/"
    },
    "id": "Kv67xQmlZXjk",
    "outputId": "1d0bb35d-f46a-4db2-da6b-10895a4fd877"
   },
   "outputs": [
    {
     "name": "stdout",
     "output_type": "stream",
     "text": [
      "   SeniorCitizen  tenure  MonthlyCharges TotalCharges  Churn  gender_Female  \\\n",
      "0              0       1           29.85        29.85      0            1.0   \n",
      "1              0      34           56.95       1889.5      0            0.0   \n",
      "2              0       2           53.85       108.15      1            0.0   \n",
      "3              0      45           42.30      1840.75      0            0.0   \n",
      "4              0       2           70.70       151.65      1            1.0   \n",
      "\n",
      "   gender_Male  Partner_No  Partner_Yes  Dependents_No  ...  \\\n",
      "0          0.0         0.0          1.0            1.0  ...   \n",
      "1          1.0         1.0          0.0            1.0  ...   \n",
      "2          1.0         1.0          0.0            1.0  ...   \n",
      "3          1.0         1.0          0.0            1.0  ...   \n",
      "4          0.0         1.0          0.0            1.0  ...   \n",
      "\n",
      "   StreamingMovies_Yes  Contract_Month-to-month  Contract_One year  \\\n",
      "0                  0.0                      1.0                0.0   \n",
      "1                  0.0                      0.0                1.0   \n",
      "2                  0.0                      1.0                0.0   \n",
      "3                  0.0                      0.0                1.0   \n",
      "4                  0.0                      1.0                0.0   \n",
      "\n",
      "   Contract_Two year  PaperlessBilling_No  PaperlessBilling_Yes  \\\n",
      "0                0.0                  0.0                   1.0   \n",
      "1                0.0                  1.0                   0.0   \n",
      "2                0.0                  0.0                   1.0   \n",
      "3                0.0                  1.0                   0.0   \n",
      "4                0.0                  0.0                   1.0   \n",
      "\n",
      "   PaymentMethod_Bank transfer (automatic)  \\\n",
      "0                                      0.0   \n",
      "1                                      0.0   \n",
      "2                                      0.0   \n",
      "3                                      1.0   \n",
      "4                                      0.0   \n",
      "\n",
      "   PaymentMethod_Credit card (automatic)  PaymentMethod_Electronic check  \\\n",
      "0                                    0.0                             1.0   \n",
      "1                                    0.0                             0.0   \n",
      "2                                    0.0                             0.0   \n",
      "3                                    0.0                             0.0   \n",
      "4                                    0.0                             1.0   \n",
      "\n",
      "   PaymentMethod_Mailed check  \n",
      "0                         0.0  \n",
      "1                         1.0  \n",
      "2                         1.0  \n",
      "3                         0.0  \n",
      "4                         0.0  \n",
      "\n",
      "[5 rows x 46 columns]\n"
     ]
    }
   ],
   "source": [
    "# Display the first few rows of the dataset to understand its structure and contents\n",
    "print(df_final.head())"
   ]
  },
  {
   "cell_type": "code",
   "execution_count": 134,
   "metadata": {
    "colab": {
     "base_uri": "https://localhost:8080/"
    },
    "id": "QW_Nut5uawqc",
    "outputId": "db908694-b5a2-4b78-daf9-314584260fa8"
   },
   "outputs": [
    {
     "name": "stdout",
     "output_type": "stream",
     "text": [
      "SeniorCitizen                                int64\n",
      "tenure                                       int64\n",
      "MonthlyCharges                             float64\n",
      "TotalCharges                                object\n",
      "Churn                                        int64\n",
      "gender_Female                              float64\n",
      "gender_Male                                float64\n",
      "Partner_No                                 float64\n",
      "Partner_Yes                                float64\n",
      "Dependents_No                              float64\n",
      "Dependents_Yes                             float64\n",
      "PhoneService_No                            float64\n",
      "PhoneService_Yes                           float64\n",
      "MultipleLines_No                           float64\n",
      "MultipleLines_No phone service             float64\n",
      "MultipleLines_Yes                          float64\n",
      "InternetService_DSL                        float64\n",
      "InternetService_Fiber optic                float64\n",
      "InternetService_No                         float64\n",
      "OnlineSecurity_No                          float64\n",
      "OnlineSecurity_No internet service         float64\n",
      "OnlineSecurity_Yes                         float64\n",
      "OnlineBackup_No                            float64\n",
      "OnlineBackup_No internet service           float64\n",
      "OnlineBackup_Yes                           float64\n",
      "DeviceProtection_No                        float64\n",
      "DeviceProtection_No internet service       float64\n",
      "DeviceProtection_Yes                       float64\n",
      "TechSupport_No                             float64\n",
      "TechSupport_No internet service            float64\n",
      "TechSupport_Yes                            float64\n",
      "StreamingTV_No                             float64\n",
      "StreamingTV_No internet service            float64\n",
      "StreamingTV_Yes                            float64\n",
      "StreamingMovies_No                         float64\n",
      "StreamingMovies_No internet service        float64\n",
      "StreamingMovies_Yes                        float64\n",
      "Contract_Month-to-month                    float64\n",
      "Contract_One year                          float64\n",
      "Contract_Two year                          float64\n",
      "PaperlessBilling_No                        float64\n",
      "PaperlessBilling_Yes                       float64\n",
      "PaymentMethod_Bank transfer (automatic)    float64\n",
      "PaymentMethod_Credit card (automatic)      float64\n",
      "PaymentMethod_Electronic check             float64\n",
      "PaymentMethod_Mailed check                 float64\n",
      "dtype: object\n"
     ]
    }
   ],
   "source": [
    "print(df_final.dtypes) # print data types of each column"
   ]
  },
  {
   "cell_type": "code",
   "execution_count": 135,
   "metadata": {
    "colab": {
     "base_uri": "https://localhost:8080/"
    },
    "id": "7VCbDA_fbBND",
    "outputId": "aaeacbb1-1378-4d74-dc4b-b4c03e998f81"
   },
   "outputs": [
    {
     "name": "stdout",
     "output_type": "stream",
     "text": [
      "(7043, 46)\n"
     ]
    }
   ],
   "source": [
    "print(df_final.shape) # print shape of dataframe"
   ]
  },
  {
   "cell_type": "markdown",
   "metadata": {},
   "source": [
    "## Inspecting the TotalCharges Feature"
   ]
  },
  {
   "cell_type": "code",
   "execution_count": 136,
   "metadata": {},
   "outputs": [
    {
     "name": "stdout",
     "output_type": "stream",
     "text": [
      "\n",
      "Integer columns:\n",
      "Index(['SeniorCitizen', 'tenure', 'Churn'], dtype='object')\n"
     ]
    }
   ],
   "source": [
    "# Print out the int columns\n",
    "int_columns = df_final.select_dtypes(include=['int64']).columns\n",
    "print(\"\\nInteger columns:\")\n",
    "print(int_columns)"
   ]
  },
  {
   "cell_type": "code",
   "execution_count": 137,
   "metadata": {},
   "outputs": [
    {
     "name": "stdout",
     "output_type": "stream",
     "text": [
      "['29.85' '1889.5' '108.15' ... '346.45' '306.6' '6844.5']\n"
     ]
    }
   ],
   "source": [
    "# Inspecting the Totalcharges feature\n",
    "unique_values = df_final['TotalCharges'].unique()\n",
    "print(unique_values)"
   ]
  },
  {
   "cell_type": "code",
   "execution_count": 138,
   "metadata": {},
   "outputs": [
    {
     "name": "stdout",
     "output_type": "stream",
     "text": [
      "6531\n"
     ]
    }
   ],
   "source": [
    "# Inspecting the TotalCharges feature\n",
    "num_unique_values = len(df_final['TotalCharges'].unique())\n",
    "print(num_unique_values)"
   ]
  },
  {
   "cell_type": "code",
   "execution_count": 139,
   "metadata": {},
   "outputs": [
    {
     "name": "stdout",
     "output_type": "stream",
     "text": [
      "11\n"
     ]
    }
   ],
   "source": [
    "# Replace spaces with NaN\n",
    "df_final['TotalCharges'] = df_final['TotalCharges'].replace(' ', np.nan)\n",
    "\n",
    "# Convert the column to float\n",
    "df_final['TotalCharges'] = df_final['TotalCharges'].astype(float)\n",
    "\n",
    "# Count the number of NaN values\n",
    "num_missing_values = df_final['TotalCharges'].isna().sum()\n",
    "print(num_missing_values)"
   ]
  },
  {
   "cell_type": "code",
   "execution_count": 140,
   "metadata": {},
   "outputs": [
    {
     "name": "stdout",
     "output_type": "stream",
     "text": [
      "(7043, 46)\n"
     ]
    }
   ],
   "source": [
    "print(df_final.shape)"
   ]
  },
  {
   "cell_type": "markdown",
   "metadata": {},
   "source": [
    "## Handling the Missing Values in Totalcharges Feature\n",
    "\n",
    "None of the simple imputation methods **(mean, median, or mode)** perfectly preserve the original distribution of values. They all introduce some level of bias because they replace missing values with a central tendency measure (mean, median) or the most frequent value (mode), which can distort the original distribution.\n",
    "\n",
    "However, **Multiple Imputation by Chained Equations (MICE)** or **K-Nearest Neighbors (KNN) imputation** are more advanced techniques that can better preserve the original distribution. These methods estimate missing values based on other observations in the dataset, thereby maintaining the relationships between variables.\n",
    "\n",
    "**MICE** works by creating multiple imputations (filling in the missing data multiple times). It uses all the other variables to estimate the missing values. The multiple filled-in datasets are then analyzed by using standard procedures for complete data and combining the results.\n",
    "\n",
    "**MICE (Multiple Imputation by Chained Equations):** This method works well when the data is missing at random, and the missingness can be predicted by other variables. It creates multiple imputations and averages them, which can provide a more robust estimate of the missing values. However, it can be computationally intensive for large datasets.\n",
    "\n",
    "**KNN** imputation fills in the missing values with the value of the nearest neighbor, as determined by some distance metric. It can be more accurate than mean, median, or mode imputation if the data points tend to cluster in the feature space.\n",
    "\n",
    "**KNN (K-Nearest Neighbors) Imputation:** This method works well when the data has a natural structure that can be captured by a distance metric (for example, if similar customers in terms of demographics and usage patterns have similar churn rates). It’s less computationally intensive than MICE, but it might not perform as well if the missingness is related to unobserved variables.\n",
    "\n",
    "These methods are more complex and computationally intensive than simple imputation methods, but they can provide more accurate results and better preserve the original distribution of your data. They are available in Python through libraries like sklearn and fancyimpute. "
   ]
  },
  {
   "cell_type": "code",
   "execution_count": 141,
   "metadata": {},
   "outputs": [
    {
     "name": "stdout",
     "output_type": "stream",
     "text": [
      "SeniorCitizen      int64\n",
      "tenure             int64\n",
      "Churn              int64\n",
      "TotalCharges     float64\n",
      "dtype: object\n"
     ]
    }
   ],
   "source": [
    "# Get the columns with integer datatype\n",
    "int_columns = df_final.select_dtypes(include=['int']).columns.tolist()\n",
    "\n",
    "# Add 'TotalCharges' to the list\n",
    "int_columns.append('TotalCharges')\n",
    "\n",
    "# Print the data types of 'TotalCharges' and integer columns\n",
    "print(df_final[int_columns].dtypes)"
   ]
  },
  {
   "cell_type": "markdown",
   "metadata": {},
   "source": [
    "The code code will create a scatter plot matrix of the **integer features** and **“TotalCharges”** in your dataset. If you see any patterns or clusters in these plots, it indicates that your data might have a natural structure."
   ]
  },
  {
   "cell_type": "code",
   "execution_count": 142,
   "metadata": {},
   "outputs": [
    {
     "name": "stderr",
     "output_type": "stream",
     "text": [
      "C:\\Users\\Adminpc2\\anaconda3\\Lib\\site-packages\\seaborn\\axisgrid.py:118: UserWarning: The figure layout has changed to tight\n",
      "  self._figure.tight_layout(*args, **kwargs)\n"
     ]
    },
    {
     "data": {
      "image/png": "[encoded data removed]",
      "text/plain": [
       "<Figure size 1000x1000 with 20 Axes>"
      ]
     },
     "metadata": {},
     "output_type": "display_data"
    }
   ],
   "source": [
    "# Get the columns with integer datatype\n",
    "int_columns = df_final.select_dtypes(include=['int']).columns.tolist()\n",
    "\n",
    "# Add 'TotalCharges' to the list\n",
    "int_columns.append('TotalCharges')\n",
    "\n",
    "# Create scatter plots for each pair of integer features and 'TotalCharges'\n",
    "sns.pairplot(df_final[int_columns])\n",
    "\n",
    "plt.show()"
   ]
  },
  {
   "cell_type": "markdown",
   "metadata": {},
   "source": [
    "The function below checks for **high correlation** between features and **low variance** in each feature. High correlation indicates that there might be a structure in the data, as similar customers might have similar churn behavior. Low variance means that most values in a feature are similar, which might affect the structure of the data."
   ]
  },
  {
   "cell_type": "code",
   "execution_count": 143,
   "metadata": {},
   "outputs": [
    {
     "name": "stdout",
     "output_type": "stream",
     "text": [
      "The feature 'tenure' has high correlation with features ['TotalCharges']. This indicates a potential structure in the data.\n",
      "The feature 'TotalCharges' has high correlation with features ['tenure']. This indicates a potential structure in the data.\n"
     ]
    }
   ],
   "source": [
    "def check_structure(df, columns):\n",
    "    # Calculate the correlation matrix\n",
    "    corr_matrix = df[columns].corr()\n",
    "\n",
    "    # Check for high correlation between features\n",
    "    for column in columns:\n",
    "        high_corr = corr_matrix[column][corr_matrix[column] > 0.7].index.tolist()\n",
    "        high_corr.remove(column)  # remove self-correlation\n",
    "\n",
    "        if high_corr:\n",
    "            print(f\"The feature '{column}' has high correlation with features {high_corr}. This indicates a potential structure in the data.\")\n",
    "\n",
    "    # Check for low variance\n",
    "    for column in columns:\n",
    "        if df[column].var() < 0.1:\n",
    "            print(f\"The feature '{column}' has low variance. This indicates that most values are similar, which might affect the structure of the data.\")\n",
    "\n",
    "# Call the function\n",
    "check_structure(df_final, int_columns)"
   ]
  },
  {
   "cell_type": "markdown",
   "metadata": {},
   "source": [
    "Based on these findings:\n",
    "\n",
    "The high correlation between **‘tenure’ and ‘TotalCharges’** indicates that there is a structure in your data. This suggests that customers with similar tenure tend to have similar total charges. This kind of structure is suitable for K-Nearest Neighbors (KNN) imputation.\n",
    "\n",
    "The low variance in ‘TotalCharges_isna’ is expected because most of the values in this feature are similar (either 1 for missing or 0 for not missing). This feature was created just for analysis and won’t be included in the imputation process.\n",
    "\n",
    "Given these results, it seems that using KNN imputation could be a good choice for handling missing values in the ‘TotalCharges’ feature. However, as always, it’s a good idea to experiment with different methods and evaluate their impact on your model’s performance."
   ]
  },
  {
   "cell_type": "code",
   "execution_count": 144,
   "metadata": {},
   "outputs": [
    {
     "name": "stdout",
     "output_type": "stream",
     "text": [
      "Successfully imputed\n"
     ]
    }
   ],
   "source": [
    "# let’s proceed with K-Nearest Neighbors (KNN) imputation. \n",
    "# Here’s how you can do it using the KNNImputer class from the sklearn.impute module:\n",
    "from sklearn.impute import KNNImputer\n",
    "from sklearn.impute import KNNImputer\n",
    "\n",
    "# Create the imputer object\n",
    "imputer = KNNImputer(n_neighbors=3)\n",
    "\n",
    "# Apply the imputer to the 'TotalCharges' column\n",
    "df_final['TotalCharges'] = imputer.fit_transform(df_final['TotalCharges'].values.reshape(-1,1))\n",
    "\n",
    "# Check if there are any missing values left in 'TotalCharges'\n",
    "missing_values = df_final['TotalCharges'].isna().sum()\n",
    "\n",
    "if missing_values == 0:\n",
    "    print(\"Successfully imputed\")\n",
    "else:\n",
    "    print(f\"Number of missing values in 'TotalCharges': {missing_values}\")"
   ]
  },
  {
   "cell_type": "code",
   "execution_count": 145,
   "metadata": {},
   "outputs": [
    {
     "name": "stdout",
     "output_type": "stream",
     "text": [
      "0\n"
     ]
    }
   ],
   "source": [
    "# Count the number of NaN values\n",
    "num_missing_values = df_final['TotalCharges'].isna().sum()\n",
    "print(num_missing_values)"
   ]
  },
  {
   "cell_type": "markdown",
   "metadata": {},
   "source": [
    "As you can see from the above results there are **no missing values** in the Feature **Totalcharges**"
   ]
  },
  {
   "cell_type": "code",
   "execution_count": 146,
   "metadata": {},
   "outputs": [
    {
     "data": {
      "text/plain": [
       "0"
      ]
     },
     "execution_count": 146,
     "metadata": {},
     "output_type": "execute_result"
    }
   ],
   "source": [
    "df_final.isnull().sum().sum()"
   ]
  },
  {
   "cell_type": "markdown",
   "metadata": {
    "id": "2EPhAnCxkGUA"
   },
   "source": [
    "## Feature Selection"
   ]
  },
  {
   "cell_type": "markdown",
   "metadata": {
    "id": "Xx9V920On_-S"
   },
   "source": [
    "## Use feature importance"
   ]
  },
  {
   "cell_type": "code",
   "execution_count": 147,
   "metadata": {
    "id": "Bm1orKCscott"
   },
   "outputs": [],
   "source": [
    "from sklearn.ensemble import RandomForestClassifier\n",
    "from sklearn.model_selection import train_test_split\n",
    "\n",
    "# Initialize the model\n",
    "model = RandomForestClassifier(random_state=42)\n",
    "\n",
    "# Assuming 'Churn' is your target variable and df_final is your DataFrame\n",
    "X = df_final.drop(columns=['Churn'])\n",
    "y = df_final['Churn']\n",
    "\n",
    "# Fit the model\n",
    "model.fit(X, y)\n",
    "\n",
    "# Get feature importances\n",
    "importances = model.feature_importances_\n",
    "\n",
    "# Sort features by importance\n",
    "sorted_indices = np.argsort(importances)[::-1]\n",
    "\n",
    "# Get top 30 features\n",
    "top_10_features = X.columns[sorted_indices[:30]]\n",
    "\n",
    "# Create a new DataFrame with only the top 30 features\n",
    "X_feature_importance = X[top_10_features]"
   ]
  },
  {
   "cell_type": "code",
   "execution_count": 148,
   "metadata": {},
   "outputs": [
    {
     "name": "stdout",
     "output_type": "stream",
     "text": [
      "Number of NaN values in 'y': 0\n"
     ]
    }
   ],
   "source": [
    "nan_indices = y.index[y.isnull()]\n",
    "print(f\"Number of NaN values in 'y': {len(nan_indices)}\")"
   ]
  },
  {
   "cell_type": "code",
   "execution_count": 149,
   "metadata": {
    "colab": {
     "base_uri": "https://localhost:8080/"
    },
    "id": "kiqZ2pc9oyqI",
    "outputId": "b7cf0efe-f3d8-49f2-cf5b-a83a1ae5e47f"
   },
   "outputs": [
    {
     "name": "stdout",
     "output_type": "stream",
     "text": [
      "['TotalCharges', 'tenure', 'MonthlyCharges', 'Contract_Month-to-month', 'OnlineSecurity_No', 'PaymentMethod_Electronic check', 'InternetService_Fiber optic', 'TechSupport_No', 'SeniorCitizen', 'gender_Male', 'gender_Female', 'Contract_Two year', 'OnlineBackup_No', 'PaperlessBilling_Yes', 'DeviceProtection_No', 'PaperlessBilling_No', 'Partner_Yes', 'Partner_No', 'MultipleLines_No', 'OnlineBackup_Yes', 'MultipleLines_Yes', 'Dependents_No', 'PaymentMethod_Credit card (automatic)', 'PaymentMethod_Bank transfer (automatic)', 'Dependents_Yes', 'StreamingMovies_Yes', 'StreamingTV_Yes', 'OnlineSecurity_Yes', 'TechSupport_Yes', 'DeviceProtection_Yes']\n"
     ]
    }
   ],
   "source": [
    "# Print out the list of features in X_feature_importance\n",
    "features = X_feature_importance.columns.tolist()\n",
    "print(features)"
   ]
  },
  {
   "cell_type": "markdown",
   "metadata": {
    "id": "FP9ATzpLp-UQ"
   },
   "source": [
    "## RFE is used to select the top 10 features"
   ]
  },
  {
   "cell_type": "code",
   "execution_count": 150,
   "metadata": {
    "colab": {
     "base_uri": "https://localhost:8080/",
     "height": 356
    },
    "id": "I66xgQVYqDhX",
    "outputId": "756bda47-f129-4005-9428-27ed780a2b05"
   },
   "outputs": [],
   "source": [
    "from sklearn.feature_selection import RFE\n",
    "from sklearn.ensemble import RandomForestClassifier\n",
    "\n",
    "# Initialize the model\n",
    "model = RandomForestClassifier(random_state=42)\n",
    "\n",
    "# Initialize RFE\n",
    "rfe = RFE(estimator=model, n_features_to_select=30, step=1)\n",
    "\n",
    "# Fit RFE\n",
    "rfe = rfe.fit(X, y)\n",
    "\n",
    "# Get the features selected by RFE\n",
    "selected_features = X.columns[rfe.support_]\n",
    "\n",
    "# Create a new DataFrame with only the selected features\n",
    "X_rfe = X[selected_features]"
   ]
  },
  {
   "cell_type": "code",
   "execution_count": 151,
   "metadata": {
    "id": "Ms7FeAT2qKIE"
   },
   "outputs": [
    {
     "name": "stdout",
     "output_type": "stream",
     "text": [
      "['SeniorCitizen', 'tenure', 'MonthlyCharges', 'TotalCharges', 'gender_Female', 'gender_Male', 'Partner_No', 'Partner_Yes', 'Dependents_No', 'Dependents_Yes', 'MultipleLines_No', 'MultipleLines_Yes', 'InternetService_Fiber optic', 'OnlineSecurity_No', 'OnlineBackup_No', 'OnlineBackup_Yes', 'DeviceProtection_No', 'DeviceProtection_Yes', 'TechSupport_No', 'StreamingTV_No', 'StreamingTV_Yes', 'StreamingMovies_No', 'StreamingMovies_Yes', 'Contract_Month-to-month', 'Contract_Two year', 'PaperlessBilling_No', 'PaperlessBilling_Yes', 'PaymentMethod_Bank transfer (automatic)', 'PaymentMethod_Credit card (automatic)', 'PaymentMethod_Electronic check']\n"
     ]
    }
   ],
   "source": [
    "# Print out the list of features in X_rfe\n",
    "features = X_rfe.columns.tolist()\n",
    "print(features)"
   ]
  },
  {
   "cell_type": "markdown",
   "metadata": {},
   "source": [
    "## SelectKBest"
   ]
  },
  {
   "cell_type": "code",
   "execution_count": 152,
   "metadata": {},
   "outputs": [],
   "source": [
    "from sklearn.feature_selection import SelectKBest\n",
    "from sklearn.feature_selection import chi2\n",
    "\n",
    "# Apply SelectKBest class to extract top 30 best features\n",
    "bestfeatures = SelectKBest(score_func=chi2, k=30)\n",
    "fit = bestfeatures.fit(X.abs(), y)\n",
    "\n",
    "# Get the features selected by SelectKBest\n",
    "selected_features = X.columns[fit.get_support()]\n",
    "\n",
    "# Create a new DataFrame with only the selected features\n",
    "X_select_k_best = X[selected_features]"
   ]
  },
  {
   "cell_type": "code",
   "execution_count": 153,
   "metadata": {},
   "outputs": [
    {
     "name": "stdout",
     "output_type": "stream",
     "text": [
      "['SeniorCitizen', 'tenure', 'MonthlyCharges', 'TotalCharges', 'Partner_No', 'Partner_Yes', 'Dependents_Yes', 'InternetService_Fiber optic', 'InternetService_No', 'OnlineSecurity_No', 'OnlineSecurity_No internet service', 'OnlineSecurity_Yes', 'OnlineBackup_No', 'OnlineBackup_No internet service', 'DeviceProtection_No', 'DeviceProtection_No internet service', 'TechSupport_No', 'TechSupport_No internet service', 'TechSupport_Yes', 'StreamingTV_No internet service', 'StreamingMovies_No', 'StreamingMovies_No internet service', 'Contract_Month-to-month', 'Contract_One year', 'Contract_Two year', 'PaperlessBilling_No', 'PaperlessBilling_Yes', 'PaymentMethod_Bank transfer (automatic)', 'PaymentMethod_Credit card (automatic)', 'PaymentMethod_Electronic check']\n"
     ]
    }
   ],
   "source": [
    "# Print out the list of features in X_select_k_best\n",
    "features = X_select_k_best.columns.tolist()\n",
    "print(features)"
   ]
  },
  {
   "cell_type": "code",
   "execution_count": 154,
   "metadata": {},
   "outputs": [
    {
     "name": "stdout",
     "output_type": "stream",
     "text": [
      "(7043, 46)\n"
     ]
    }
   ],
   "source": [
    "print(df_final.shape)"
   ]
  },
  {
   "cell_type": "markdown",
   "metadata": {},
   "source": [
    "## model training and evaluation"
   ]
  },
  {
   "cell_type": "code",
   "execution_count": 155,
   "metadata": {},
   "outputs": [
    {
     "name": "stdout",
     "output_type": "stream",
     "text": [
      "Feature set 1:\n"
     ]
    },
    {
     "name": "stderr",
     "output_type": "stream",
     "text": [
      "C:\\Users\\Adminpc2\\anaconda3\\Lib\\site-packages\\sklearn\\linear_model\\_logistic.py:469: ConvergenceWarning: lbfgs failed to converge (status=1):\n",
      "STOP: TOTAL NO. of ITERATIONS REACHED LIMIT.\n",
      "\n",
      "Increase the number of iterations (max_iter) or scale the data as shown in:\n",
      "    https://scikit-learn.org/stable/modules/preprocessing.html\n",
      "Please also refer to the documentation for alternative solver options:\n",
      "    https://scikit-learn.org/stable/modules/linear_model.html#logistic-regression\n",
      "  n_iter_i = _check_optimize_result(\n"
     ]
    },
    {
     "name": "stdout",
     "output_type": "stream",
     "text": [
      "LogisticRegression:\n",
      "Accuracy: 0.8218594748048261\n",
      "Precision: 0.6859756097560976\n",
      "Recall: 0.6032171581769437\n",
      "F1 score: 0.6419400855920114\n",
      "\n",
      "RandomForestClassifier:\n",
      "Accuracy: 0.7977288857345636\n",
      "Precision: 0.664179104477612\n",
      "Recall: 0.4772117962466488\n",
      "F1 score: 0.5553822152886115\n",
      "\n"
     ]
    },
    {
     "name": "stderr",
     "output_type": "stream",
     "text": [
      "C:\\Users\\Adminpc2\\anaconda3\\Lib\\site-packages\\sklearn\\metrics\\_classification.py:1509: UndefinedMetricWarning: Precision is ill-defined and being set to 0.0 due to no predicted samples. Use `zero_division` parameter to control this behavior.\n",
      "  _warn_prf(average, modifier, f\"{metric.capitalize()} is\", len(result))\n"
     ]
    },
    {
     "name": "stdout",
     "output_type": "stream",
     "text": [
      "SVC:\n",
      "Accuracy: 0.7352732434350603\n",
      "Precision: 0.0\n",
      "Recall: 0.0\n",
      "F1 score: 0.0\n",
      "\n",
      "KNeighborsClassifier:\n",
      "Accuracy: 0.7743080198722498\n",
      "Precision: 0.5907590759075908\n",
      "Recall: 0.47989276139410186\n",
      "F1 score: 0.5295857988165681\n",
      "\n",
      "Feature set 2:\n"
     ]
    },
    {
     "name": "stderr",
     "output_type": "stream",
     "text": [
      "C:\\Users\\Adminpc2\\anaconda3\\Lib\\site-packages\\sklearn\\linear_model\\_logistic.py:469: ConvergenceWarning: lbfgs failed to converge (status=1):\n",
      "STOP: TOTAL NO. of ITERATIONS REACHED LIMIT.\n",
      "\n",
      "Increase the number of iterations (max_iter) or scale the data as shown in:\n",
      "    https://scikit-learn.org/stable/modules/preprocessing.html\n",
      "Please also refer to the documentation for alternative solver options:\n",
      "    https://scikit-learn.org/stable/modules/linear_model.html#logistic-regression\n",
      "  n_iter_i = _check_optimize_result(\n"
     ]
    },
    {
     "name": "stdout",
     "output_type": "stream",
     "text": [
      "LogisticRegression:\n",
      "Accuracy: 0.8218594748048261\n",
      "Precision: 0.6859756097560976\n",
      "Recall: 0.6032171581769437\n",
      "F1 score: 0.6419400855920114\n",
      "\n",
      "RandomForestClassifier:\n",
      "Accuracy: 0.7977288857345636\n",
      "Precision: 0.6654135338345865\n",
      "Recall: 0.4745308310991957\n",
      "F1 score: 0.5539906103286385\n",
      "\n"
     ]
    },
    {
     "name": "stderr",
     "output_type": "stream",
     "text": [
      "C:\\Users\\Adminpc2\\anaconda3\\Lib\\site-packages\\sklearn\\metrics\\_classification.py:1509: UndefinedMetricWarning: Precision is ill-defined and being set to 0.0 due to no predicted samples. Use `zero_division` parameter to control this behavior.\n",
      "  _warn_prf(average, modifier, f\"{metric.capitalize()} is\", len(result))\n"
     ]
    },
    {
     "name": "stdout",
     "output_type": "stream",
     "text": [
      "SVC:\n",
      "Accuracy: 0.7352732434350603\n",
      "Precision: 0.0\n",
      "Recall: 0.0\n",
      "F1 score: 0.0\n",
      "\n",
      "KNeighborsClassifier:\n",
      "Accuracy: 0.7743080198722498\n",
      "Precision: 0.5907590759075908\n",
      "Recall: 0.47989276139410186\n",
      "F1 score: 0.5295857988165681\n",
      "\n",
      "Feature set 3:\n"
     ]
    },
    {
     "name": "stderr",
     "output_type": "stream",
     "text": [
      "C:\\Users\\Adminpc2\\anaconda3\\Lib\\site-packages\\sklearn\\linear_model\\_logistic.py:469: ConvergenceWarning: lbfgs failed to converge (status=1):\n",
      "STOP: TOTAL NO. of ITERATIONS REACHED LIMIT.\n",
      "\n",
      "Increase the number of iterations (max_iter) or scale the data as shown in:\n",
      "    https://scikit-learn.org/stable/modules/preprocessing.html\n",
      "Please also refer to the documentation for alternative solver options:\n",
      "    https://scikit-learn.org/stable/modules/linear_model.html#logistic-regression\n",
      "  n_iter_i = _check_optimize_result(\n"
     ]
    },
    {
     "name": "stdout",
     "output_type": "stream",
     "text": [
      "LogisticRegression:\n",
      "Accuracy: 0.8218594748048261\n",
      "Precision: 0.6859756097560976\n",
      "Recall: 0.6032171581769437\n",
      "F1 score: 0.6419400855920114\n",
      "\n",
      "RandomForestClassifier:\n",
      "Accuracy: 0.7963094393186657\n",
      "Precision: 0.6604477611940298\n",
      "Recall: 0.4745308310991957\n",
      "F1 score: 0.5522620904836193\n",
      "\n",
      "SVC:\n",
      "Accuracy: 0.7352732434350603\n",
      "Precision: 0.0\n",
      "Recall: 0.0\n",
      "F1 score: 0.0\n",
      "\n",
      "KNeighborsClassifier:\n",
      "Accuracy: 0.7743080198722498\n",
      "Precision: 0.5907590759075908\n",
      "Recall: 0.47989276139410186\n",
      "F1 score: 0.5295857988165681\n",
      "\n"
     ]
    },
    {
     "name": "stderr",
     "output_type": "stream",
     "text": [
      "C:\\Users\\Adminpc2\\anaconda3\\Lib\\site-packages\\sklearn\\metrics\\_classification.py:1509: UndefinedMetricWarning: Precision is ill-defined and being set to 0.0 due to no predicted samples. Use `zero_division` parameter to control this behavior.\n",
      "  _warn_prf(average, modifier, f\"{metric.capitalize()} is\", len(result))\n"
     ]
    }
   ],
   "source": [
    "from sklearn.linear_model import LogisticRegression\n",
    "from sklearn.ensemble import RandomForestClassifier\n",
    "from sklearn.svm import SVC\n",
    "from sklearn.neighbors import KNeighborsClassifier\n",
    "from sklearn.model_selection import train_test_split\n",
    "from sklearn.metrics import accuracy_score, precision_score, recall_score, f1_score\n",
    "\n",
    "# Define a list of classifiers\n",
    "classifiers = [\n",
    "    LogisticRegression(max_iter=1000),  # Increase the number of iterations\n",
    "    RandomForestClassifier(),\n",
    "    SVC(),\n",
    "    KNeighborsClassifier()\n",
    "]\n",
    "\n",
    "# Define a list of feature sets\n",
    "feature_sets = [X_feature_importance, X_rfe, X_select_k_best]\n",
    "\n",
    "# Split the data into training and test sets\n",
    "X_train, X_test, y_train, y_test = train_test_split(X, y, test_size=0.2, random_state=42)\n",
    "\n",
    "# Iterate over each feature set\n",
    "for i, X in enumerate(feature_sets):\n",
    "    # Print the feature set number\n",
    "    print(f'Feature set {i+1}:')\n",
    "    \n",
    "    # Iterate over each classifier\n",
    "    for clf in classifiers:\n",
    "        # Train the classifier\n",
    "        clf.fit(X_train, y_train)\n",
    "        \n",
    "        # Make predictions\n",
    "        y_pred = clf.predict(X_test)\n",
    "        \n",
    "        # Calculate metrics\n",
    "        accuracy = accuracy_score(y_test, y_pred)\n",
    "        precision = precision_score(y_test, y_pred)\n",
    "        recall = recall_score(y_test, y_pred)\n",
    "        f1 = f1_score(y_test, y_pred)\n",
    "        \n",
    "        # Print the results\n",
    "        print(f'{clf.__class__.__name__}:')\n",
    "        print(f'Accuracy: {accuracy}')\n",
    "        print(f'Precision: {precision}')\n",
    "        print(f'Recall: {recall}')\n",
    "        print(f'F1 score: {f1}\\n')\n",
    "\n"
   ]
  },
  {
   "cell_type": "markdown",
   "metadata": {},
   "source": [
    "## Interpreating the Evaluation Metrics\n",
    "\n",
    "In general, higher values for recall, F1 score, accuracy, and precision are desirable when evaluating classification models. Here’s why:\n",
    "\n",
    "**Recall (Sensitivity):** This is the ratio of correctly predicted positive observations to the total actual positives. High recall indicates that the model is good at detecting the positive class.\n",
    "\n",
    "**Precision:** This is the ratio of correctly predicted positive observations to the total predicted positives. High precision indicates that the model is not predicting the positive class when it’s actually negative.\n",
    "\n",
    "**F1 Score:** This is the weighted average of Precision and Recall. It tries to find the balance between precision and recall. A high F1 score is a sign of a well-performing model.\n",
    "\n",
    "**Accuracy:** This is the ratio of correctly predicted observations to the total observations. High accuracy means that the model is good at predicting both the positive and negative class.\n",
    "\n",
    "However, the importance of these metrics can vary depending on the problem at hand. For example, in a problem where **false negatives are very costly,** you might want to optimize for recall even at the expense of precision. Conversely, in a problem where **false positives are more costly,** you might want to optimize for precision.\n",
    "\n",
    "Remember, no single metric can tell the whole story. It’s important to look at all these metrics to get a comprehensive understanding of your model’s performance."
   ]
  },
  {
   "cell_type": "markdown",
   "metadata": {},
   "source": [
    "## Determining which errors are more costly\n",
    "\n",
    "In the context of predicting customer churn for a telecommunications company, the cost of false positives and false negatives can be considered as follows:\n",
    "\n",
    "**False Positive:** A false positive would mean that the model predicts a customer will churn, but they actually do not. The cost here could be the unnecessary expenditure on retention strategies for customers who were not going to churn. This might include special discounts or offers aimed at preventing churn.\n",
    "\n",
    "**False Negative:** A false negative would mean that the model predicts a customer will not churn, but they actually do. The cost here is potentially much higher, as the company loses a customer, which could have been prevented with appropriate retention strategies.\n",
    "\n",
    "Typically, false negatives **(failing to identify customers who will churn)** are more costly in this scenario, as the loss of a customer can have a significant impact on revenue. Therefore, a model with a higher recall (fewer false negatives) might be more desirable.\n",
    "\n",
    "However, it’s important to balance this with the cost of false positives, as unnecessary retention efforts can also consume resources. Therefore, the choice of model and the optimization of its parameters should consider both these aspects.\n",
    "\n",
    "Remember, the ultimate goal is to maximize the overall performance of the model, which often involves a trade-off between these different metrics."
   ]
  },
  {
   "cell_type": "code",
   "execution_count": 156,
   "metadata": {
    "scrolled": true
   },
   "outputs": [
    {
     "name": "stdout",
     "output_type": "stream",
     "text": [
      "Feature set 1:\n",
      "Top 2 models with highest recall: [('LogisticRegression', 0.5951742627345844), ('KNeighborsClassifier', 0.5040214477211796)]\n",
      "Top 2 models with highest precision: [('SVC', 0.6951672862453532), ('LogisticRegression', 0.683076923076923)]\n",
      "\n",
      "Feature set 2:\n",
      "Top 2 models with highest recall: [('LogisticRegression', 0.5951742627345844), ('KNeighborsClassifier', 0.5335120643431636)]\n",
      "Top 2 models with highest precision: [('SVC', 0.6953405017921147), ('LogisticRegression', 0.6851851851851852)]\n",
      "\n",
      "Feature set 3:\n",
      "Top 2 models with highest recall: [('LogisticRegression', 0.579088471849866), ('SVC', 0.5067024128686327)]\n",
      "Top 2 models with highest precision: [('LogisticRegression', 0.6813880126182965), ('SVC', 0.6678445229681979)]\n",
      "\n"
     ]
    }
   ],
   "source": [
    "from sklearn.metrics import recall_score, precision_score\n",
    "\n",
    "from sklearn.preprocessing import StandardScaler\n",
    "\n",
    "# Initialize dictionaries to store the recall and precision scores for each feature set\n",
    "recall_scores = {}\n",
    "precision_scores = {}\n",
    "\n",
    "# Iterate over each feature set\n",
    "for i, X in enumerate(feature_sets):\n",
    "    # Split the data into training and test sets\n",
    "    X_train, X_test, y_train, y_test = train_test_split(X, y, test_size=0.2, random_state=42)\n",
    "    \n",
    "    # Scale the data\n",
    "    scaler = StandardScaler()\n",
    "    X_train = scaler.fit_transform(X_train)\n",
    "    X_test = scaler.transform(X_test)\n",
    "    \n",
    "    # Initialize lists to store the recall and precision scores for each classifier\n",
    "    recall_scores_feature_set = []\n",
    "    precision_scores_feature_set = []\n",
    "    \n",
    "    # Iterate over each classifier\n",
    "    for clf in classifiers:\n",
    "        # Increase the maximum number of iterations for Logistic Regression\n",
    "        if isinstance(clf, LogisticRegression):\n",
    "            clf.max_iter = 1000\n",
    "        \n",
    "        # Train the classifier\n",
    "        clf.fit(X_train, y_train)\n",
    "        \n",
    "        # Make predictions\n",
    "        y_pred = clf.predict(X_test)\n",
    "        \n",
    "        # Calculate recall and precision scores\n",
    "        recall = recall_score(y_test, y_pred)\n",
    "        precision = precision_score(y_test, y_pred) if y_pred.any() else 0\n",
    "        \n",
    "        # Append the scores to the lists\n",
    "        recall_scores_feature_set.append((clf.__class__.__name__, recall))\n",
    "        precision_scores_feature_set.append((clf.__class__.__name__, precision))\n",
    "    \n",
    "    # Store the scores for this feature set\n",
    "    recall_scores[i] = sorted(recall_scores_feature_set, key=lambda x: x[1], reverse=True)[:2]\n",
    "    precision_scores[i] = sorted(precision_scores_feature_set, key=lambda x: x[1], reverse=True)[:2]\n",
    "\n",
    "# Print the top 2 models with the highest recall and precision for each feature set\n",
    "for i in range(len(feature_sets)):\n",
    "    print(f'Feature set {i+1}:')\n",
    "    print(f'Top 2 models with highest recall: {recall_scores[i]}')\n",
    "    print(f'Top 2 models with highest precision: {precision_scores[i]}\\n')"
   ]
  },
  {
   "cell_type": "markdown",
   "metadata": {},
   "source": [
    "**We encounteres some errors while runing the code above**\n",
    "\n",
    "It’s generally better to address the issues causing the warnings rather than just suppressing them. Here’s how you can modify your code to address the two warnings you’re seeing:\n",
    "\n",
    "**UndefinedMetricWarning:** This warning is raised when precision is ill-defined, which happens when there are no predicted samples. To handle this, you can add a check before calculating precision to ensure there are predicted samples.\n",
    "\n",
    "**ConvergenceWarning:** This warning is raised when the Logistic Regression model fails to converge, which means the maximum number of iterations is reached before the optimization algorithm is able to find the optimal parameters. You can increase the maximum number of iterations or scale your data to help the model converge."
   ]
  },
  {
   "cell_type": "markdown",
   "metadata": {},
   "source": [
    "## Testing Feature perfromance at diferrent Feature levels\n",
    "\n",
    "I have selected only the best combination of feature sets, per given feature level:\n",
    "\n",
    "### At 10 features:\n",
    "\n",
    "**Feature set 2:**\n",
    "\n",
    "Top 2 models with highest recall: [('SVC', 0.5764075067024129), ('LogisticRegression', 0.5737265415549598)]\n",
    "\n",
    "Top 2 models with highest precision: [('LogisticRegression', 0.6645962732919255), ('SVC', 0.6635802469135802)]\n",
    "\n",
    "### At 15 features:\n",
    "\n",
    "**Feature set 2:**\n",
    "\n",
    "Top 2 models with highest recall: [('LogisticRegression', 0.5951742627345844), ('KNeighborsClassifier', 0.5415549597855228)]\n",
    "\n",
    "Top 2 models with highest precision: [('SVC', 0.6892857142857143), ('LogisticRegression', 0.6788990825688074)]\n",
    "\n",
    "### At 20 features:\n",
    "\n",
    "**Feature set 1:**\n",
    "\n",
    "Top 2 models with highest recall: [('LogisticRegression', 0.5924932975871313), ('KNeighborsClassifier', 0.5549597855227882)]\n",
    "\n",
    "Top 2 models with highest precision: [('SVC', 0.6855123674911661), ('LogisticRegression', 0.6737804878048781)]\n",
    "\n",
    "### At 25 features:\n",
    "\n",
    "**Feature set 1:**\n",
    "\n",
    "Top 2 models with highest recall: [('LogisticRegression', 0.6058981233243967), ('KNeighborsClassifier', 0.5120643431635389)]\n",
    "\n",
    "Top 2 models with highest precision: [('LogisticRegression', 0.6869300911854104), ('SVC', 0.6762589928057554)]\n",
    "\n",
    "### At 30 features:\n",
    "\n",
    "**Feature set 2:**\n",
    "\n",
    "Top 2 models with highest recall: [('LogisticRegression', 0.5951742627345844), ('KNeighborsClassifier', 0.5335120643431636)]\n",
    "\n",
    "Top 2 models with highest precision: [('SVC', 0.6953405017921147), ('LogisticRegression', 0.6851851851851852)]\n",
    "\n",
    "\n",
    "### At 35 Features:\n",
    "\n",
    "**Feature set 2:**\n",
    "\n",
    "Top 2 models with highest recall: [('LogisticRegression', 0.5951742627345844), ('SVC', 0.5308310991957105)]\n",
    "\n",
    "Top 2 models with highest precision: [('SVC', 0.6947368421052632), ('LogisticRegression', 0.6851851851851852)]"
   ]
  },
  {
   "cell_type": "markdown",
   "metadata": {},
   "source": [
    "## Choosing the best Feature set and The Given Feature number\n",
    "\n",
    "Based on the provided information, the best combination of recall and precision is achieved with **Feature set 2 at 30 features.**\n",
    "\n",
    "At this point, the top 2 models with the highest recall are:\n",
    "\n",
    "**1. Logistic Regression** with a recall of **0.595**\n",
    "\n",
    "**2. K-Nearest Neighbors Classifier** with a recall of **0.534**\n",
    "\n",
    "The top 2 models with the highest precision are:\n",
    "\n",
    "**1. Support Vector Classifier (SVC)** with a precision of **0.695**\n",
    "\n",
    "**2. Logistic Regression** with a precision of **0.685**\n",
    "\n",
    "If you’re **prioritizing recall** but also want to ensure **decent precision,** you might want to consider using **Feature set 2 at 30 features.**\n",
    "\n",
    "At this point, the **Logistic Regression model** gives the highest recall of 0.595. Although it’s not the model with the highest precision, its precision is still reasonably good at 0.685.\n",
    "\n",
    "However, the choice of feature set and the number of features would ultimately depend on the specific requirements of your project, including the acceptable trade-off between recall and precision."
   ]
  },
  {
   "cell_type": "markdown",
   "metadata": {},
   "source": [
    "##  Improve the recall and precision of your model using Feature set 2 at 30 features\n",
    "\n",
    "To improve the recall and precision of your model using Feature set 2 at 30 features, you can consider the following strategies:\n",
    "\n",
    "**Feature Engineering:** You can create new features that might capture important information. This could be interaction terms, summary statistics, or decompositions.\n",
    "\n",
    "**Hyperparameter Tuning:** You can tune the hyperparameters of your Logistic Regression model. For example, the regularization strength C in Logistic Regression is a hyperparameter that you can tune.\n",
    "\n",
    "**Ensemble Methods:** You can use ensemble methods like Bagging and Boosting or even stacking multiple different models together. Ensemble methods can often boost performance by combining the strengths of several models.\n",
    "\n",
    "**Address Class Imbalance:** If your dataset is imbalanced, it can affect the recall. You can use techniques like oversampling the minority class, undersampling the majority class, or using SMOTE (Synthetic Minority Over-sampling Technique) to make your dataset balanced.\n",
    "\n",
    "**Use Different Evaluation Metric:** Precision and recall are just two aspects. You might want to look at the F1 score (the harmonic mean of precision and recall) or the ROC-AUC score which considers the trade-off between True Positive Rate and False Positive Rate.\n",
    "\n",
    "Remember, machine learning model performance can often be improved with more data. If it’s possible to collect more data, that could potentially improve your model’s performance."
   ]
  },
  {
   "cell_type": "code",
   "execution_count": 157,
   "metadata": {},
   "outputs": [
    {
     "name": "stdout",
     "output_type": "stream",
     "text": [
      "Churn\n",
      "0    5174\n",
      "1    1869\n",
      "Name: count, dtype: int64\n"
     ]
    }
   ],
   "source": [
    "## cehck for class imbalance \n",
    "# Assume y is your target variable\n",
    "\n",
    "class_distribution = y.value_counts()\n",
    "print(class_distribution)"
   ]
  },
  {
   "cell_type": "markdown",
   "metadata": {},
   "source": [
    "**Results Explained:**\n",
    "\n",
    "The class distribution in your target variable 'Churn' indicates that there is indeed a class imbalance. Here's the distribution:\n",
    "\n",
    "- Class 0 (No Churn): 5174 instances\n",
    "- Class 1 (Churn): 1869 instances\n",
    "\n",
    "This shows that the number of instances of Class 0 (No Churn) is significantly higher than the number of instances of Class 1 (Churn). This imbalance could potentially bias your model towards predicting the majority class (No Churn).\n",
    "\n",
    "To address this issue, you can consider techniques such as:\n",
    "\n",
    "1. **Oversampling the minority class (Churn)**: This involves randomly duplicating examples in the minority class to increase its proportion. One common method for oversampling is SMOTE (Synthetic Minority Over-sampling Technique), which creates synthetic examples rather than creating exact copies of instances.\n",
    "\n",
    "2. **Undersampling the majority class (No Churn)**: This involves randomly deleting examples from the majority class to decrease its proportion. However, this method might result in loss of information.\n",
    "\n",
    "3. **Combination of Oversampling and Undersampling**: This involves applying both oversampling and undersampling to create a balanced dataset.\n",
    "\n",
    "Remember, the choice of method would depend on your specific use case and the nature of your data. It's always a good idea to experiment with different methods and see which one works best for your specific scenario."
   ]
  },
  {
   "cell_type": "markdown",
   "metadata": {},
   "source": [
    "**Disadvantages and Advantages of each method**\n",
    "\n",
    "Here are the advantages and disadvantages of the methods mentioned:\n",
    "\n",
    "1. **Random Oversampling**\n",
    "    - Advantages:\n",
    "        - It's a simple and straightforward method to make the class distribution balanced.\n",
    "        - It can improve the performance of the model on the minority class.\n",
    "    - Disadvantages:\n",
    "        - It can cause overfitting due to the duplication of data points.\n",
    "        - It increases the likelihood of occurring overfitting since it replicates the minority class events.\n",
    "\n",
    "2. **Random Undersampling**\n",
    "    - Advantages:\n",
    "        - It can help improve run time and storage problems by reducing the number of training data samples when the training data set is huge.\n",
    "    - Disadvantages:\n",
    "        - It can discard potentially useful information which could be important for building rule classifiers.\n",
    "        - The sample chosen by random under sampling may be a biased sample. And it will not be an accurate representative of the population. Thereby, resulting in inaccurate results with the actual test data set.\n",
    "\n",
    "3. **Class Weight Adjustment**\n",
    "    - Advantages:\n",
    "        - It's easy to use because you only need to adjust the `class_weight` parameter of the algorithm.\n",
    "        - It doesn't cause information loss, as it doesn't involve removing instances from the majority class or adding synthetic instances to the minority class.\n",
    "    - Disadvantages:\n",
    "        - It can introduce its own issues, like making the algorithm more sensitive to errors in the minority class.\n",
    "        - This method might not be effective if the dataset is highly imbalanced.\n",
    "\n",
    "Remember, the choice of method will depend on your specific use case and the nature of your data. It's always a good idea to experiment with different methods and see which one works best for your specific scenario."
   ]
  },
  {
   "cell_type": "markdown",
   "metadata": {},
   "source": [
    "**Based on target distribution:**\n",
    "\n",
    "- Class 0 (No Churn): 5174 instances\n",
    "- Class 1 (Churn): 1869 instances\n",
    "\n",
    "There is indeed an imbalance in your dataset. The 'No Churn' class has about 2.8 times more instances than the 'Churn' class. \n",
    "\n",
    "While there's no strict rule that defines when a dataset is considered \"highly\" imbalanced, a common threshold is when the **minority class constitutes less than 10%** of the total instances. In your case, the **'Churn' class makes up about 26.5%** of the total instances, so while it's imbalanced, **it might not be considered \"highly\" imbalanced.**\n",
    "\n",
    "However, this imbalance could still potentially bias your model towards predicting the majority class (No Churn). Therefore, it's a good idea to address this imbalance to improve your model's performance on the minority class (Churn). You can use the methods I mentioned earlier to handle this imbalance.\n",
    "\n",
    "so we will use  **Class Weight Adjustment**"
   ]
  },
  {
   "cell_type": "markdown",
   "metadata": {},
   "source": [
    "## First, train a Logistic Regression model with class weight adjustment:"
   ]
  },
  {
   "cell_type": "code",
   "execution_count": 108,
   "metadata": {},
   "outputs": [
    {
     "name": "stdout",
     "output_type": "stream",
     "text": [
      "              precision    recall  f1-score   support\n",
      "\n",
      "           0       0.92      0.72      0.81      1036\n",
      "           1       0.52      0.83      0.64       373\n",
      "\n",
      "    accuracy                           0.75      1409\n",
      "   macro avg       0.72      0.78      0.72      1409\n",
      "weighted avg       0.82      0.75      0.76      1409\n",
      "\n"
     ]
    },
    {
     "name": "stderr",
     "output_type": "stream",
     "text": [
      "C:\\Users\\Adminpc2\\anaconda3\\Lib\\site-packages\\sklearn\\linear_model\\_logistic.py:469: ConvergenceWarning: lbfgs failed to converge (status=1):\n",
      "STOP: TOTAL NO. of ITERATIONS REACHED LIMIT.\n",
      "\n",
      "Increase the number of iterations (max_iter) or scale the data as shown in:\n",
      "    https://scikit-learn.org/stable/modules/preprocessing.html\n",
      "Please also refer to the documentation for alternative solver options:\n",
      "    https://scikit-learn.org/stable/modules/linear_model.html#logistic-regression\n",
      "  n_iter_i = _check_optimize_result(\n"
     ]
    }
   ],
   "source": [
    "from sklearn.linear_model import LogisticRegression\n",
    "from sklearn.metrics import classification_report\n",
    "from sklearn.preprocessing import StandardScaler\n",
    "\n",
    "# Assume X_rfe and y are your features and target respectively\n",
    "X_train, X_test, y_train, y_test = train_test_split(X_rfe, y, test_size=0.2, random_state=42)\n",
    "\n",
    "# Scale only the 'tenure' and 'MonthlyCharges' features\n",
    "scaler = StandardScaler()\n",
    "X_train[['tenure', 'MonthlyCharges']] = scaler.fit_transform(X_train[['tenure', 'MonthlyCharges']])\n",
    "X_test[['tenure', 'MonthlyCharges']] = scaler.transform(X_test[['tenure', 'MonthlyCharges']])\n",
    "\n",
    "# Create a logistic regression model with balanced class weights\n",
    "model = LogisticRegression(class_weight='balanced', max_iter=1000)\n",
    "\n",
    "# Train the model\n",
    "model.fit(X_train, y_train)\n",
    "\n",
    "# Make predictions\n",
    "predictions = model.predict(X_test)\n",
    "\n",
    "# Print classification report\n",
    "report = classification_report(y_test, predictions, zero_division=1)\n",
    "print(report)"
   ]
  },
  {
   "cell_type": "markdown",
   "metadata": {},
   "source": [
    "## Confusion Matrix and ROC Curve For LogisticRegression"
   ]
  },
  {
   "cell_type": "code",
   "execution_count": 109,
   "metadata": {},
   "outputs": [
    {
     "data": {
      "image/png": "[encoded data removed]",
      "text/plain": [
       "<Figure size 500x500 with 2 Axes>"
      ]
     },
     "metadata": {},
     "output_type": "display_data"
    },
    {
     "data": {
      "image/png": "[encoded data removed]",
      "text/plain": [
       "<Figure size 640x480 with 1 Axes>"
      ]
     },
     "metadata": {},
     "output_type": "display_data"
    }
   ],
   "source": [
    "from sklearn.metrics import confusion_matrix, roc_curve, auc\n",
    "\n",
    "# Generate confusion matrix\n",
    "cm = confusion_matrix(y_test, predictions)\n",
    "\n",
    "# Plot confusion matrix\n",
    "plt.figure(figsize=(5,5))\n",
    "sns.heatmap(cm, annot=True, fmt=\".0f\", linewidths=.5, square = True, cmap = 'Blues')\n",
    "plt.ylabel('Actual label')\n",
    "plt.xlabel('Predicted label')\n",
    "\n",
    "# Calculate the FPR and TPR for all thresholds of the classification\n",
    "fpr, tpr, threshold = roc_curve(y_test, predictions)\n",
    "roc_auc = auc(fpr, tpr)\n",
    "\n",
    "# Plot ROC curve\n",
    "plt.figure()\n",
    "plt.plot(fpr, tpr, label='ROC curve (area = %0.2f)' % roc_auc)\n",
    "plt.plot([0, 1], [0, 1],'r--')\n",
    "plt.xlim([0.0, 1.0])\n",
    "plt.ylim([0.0, 1.05])\n",
    "plt.xlabel('False Positive Rate')\n",
    "plt.ylabel('True Positive Rate')\n",
    "plt.title('Receiver operating characteristic')\n",
    "plt.legend(loc=\"lower right\")\n",
    "plt.show()"
   ]
  },
  {
   "cell_type": "markdown",
   "metadata": {},
   "source": [
    "## Then, add the Logistic Regression model with class weight adjustment to your ensemble and evaluate the ensemble model:"
   ]
  },
  {
   "cell_type": "code",
   "execution_count": 113,
   "metadata": {},
   "outputs": [
    {
     "name": "stderr",
     "output_type": "stream",
     "text": [
      "C:\\Users\\Adminpc2\\anaconda3\\Lib\\site-packages\\sklearn\\linear_model\\_logistic.py:469: ConvergenceWarning: lbfgs failed to converge (status=1):\n",
      "STOP: TOTAL NO. of ITERATIONS REACHED LIMIT.\n",
      "\n",
      "Increase the number of iterations (max_iter) or scale the data as shown in:\n",
      "    https://scikit-learn.org/stable/modules/preprocessing.html\n",
      "Please also refer to the documentation for alternative solver options:\n",
      "    https://scikit-learn.org/stable/modules/linear_model.html#logistic-regression\n",
      "  n_iter_i = _check_optimize_result(\n"
     ]
    },
    {
     "name": "stdout",
     "output_type": "stream",
     "text": [
      "              precision    recall  f1-score   support\n",
      "\n",
      "           0       0.84      0.85      0.85      1036\n",
      "           1       0.57      0.55      0.56       373\n",
      "\n",
      "    accuracy                           0.77      1409\n",
      "   macro avg       0.71      0.70      0.70      1409\n",
      "weighted avg       0.77      0.77      0.77      1409\n",
      "\n"
     ]
    }
   ],
   "source": [
    "from sklearn.ensemble import VotingClassifier\n",
    "from sklearn.svm import SVC\n",
    "from sklearn.neighbors import KNeighborsClassifier\n",
    "\n",
    "# Create individual models\n",
    "model1 = LogisticRegression(class_weight='balanced', max_iter=1000)\n",
    "model2 = SVC(class_weight='balanced')\n",
    "model3 = KNeighborsClassifier()\n",
    "\n",
    "# Create ensemble model\n",
    "ensemble = VotingClassifier(estimators=[('lr', model1), ('svc', model2), ('knn', model3)], voting='hard')\n",
    "\n",
    "# Train ensemble model\n",
    "ensemble.fit(X_train, y_train)\n",
    "\n",
    "# Make predictions\n",
    "predictions = ensemble.predict(X_test)\n",
    "\n",
    "# Print classification report\n",
    "report = classification_report(y_test, predictions, zero_division=1)\n",
    "print(report)"
   ]
  },
  {
   "cell_type": "markdown",
   "metadata": {},
   "source": [
    "In this example, the VotingClassifier creates an ensemble model that makes its final predictions by taking the mode of the predictions of the individual models.\n",
    "\n",
    "Remember, the effectiveness of ensemble methods depends on the diversity of the models being ensembled. Models that make very similar predictions may not produce a very effective ensemble."
   ]
  },
  {
   "cell_type": "markdown",
   "metadata": {},
   "source": [
    "**Results Explianed**\n",
    "\n",
    "Based on the results you've shared, here's a summary of the performance of the two models:\n",
    "\n",
    "1. **Logistic Regression Model with Class Weight Adjustment**\n",
    "    - **Precision**: Class 0 (No Churn) - 0.92, Class 1 (Churn) - 0.52\n",
    "    - **Recall**: Class 0 (No Churn) - 0.72, Class 1 (Churn) - 0.83\n",
    "    - **F1-score**: Class 0 (No Churn) - 0.81, Class 1 (Churn) - 0.64\n",
    "    - **Accuracy**: 0.75\n",
    "    \n",
    "    \n",
    "2. **Logistic Regression Model with Hyper Parameter Tuning**\n",
    "    \n",
    "   - **Precision**: Class 0 (No Churn) -  0.92, Class 1 (Churn) -  0.52\n",
    "   \n",
    "   - **Precision**: Class 0 (No Churn) - 0.72, Class 1 (Churn) - 0.83 \n",
    "   \n",
    "   - **Precision**: Class 0 (No Churn) - 0.81, Class 1 (Churn) - 0.64 \n",
    "   \n",
    "   - **Accuracy**: 0.75\n",
    "   \n",
    "3. **Ensemble Model**\n",
    "    - **Precision**: Class 0 (No Churn) - 0.82, Class 1 (Churn) - 0.66\n",
    "    - **Recall**: Class 0 (No Churn) - 0.92, Class 1 (Churn) - 0.46\n",
    "\n",
    "    - **F1-score**: Class 0 (No Churn) - 0.87, Class 1 (Churn) - 0.54\n",
    "    - **Accuracy**: 0.79\n",
    "\n",
    "From these results, we can see that:\n",
    "\n",
    "- The ensemble model with no scaling has a higher overall accuracy (0.79 vs 0.75).\n",
    "- The Logistic Regression model has a higher recall for the minority class (Churn), which means it is better at identifying positive instances.\n",
    "- The ensemble model has a higher precision for the minority class (Churn), which means when it predicts an instance is positive, it is more likely to be correct.\n",
    "\n",
    "So, if your priority is overall accuracy or precision for the minority class, the ensemble model performed better. However, if your priority is recall for the minority class, the Logistic Regression model performed better.\n",
    "\n",
    "If you're prioritizing recall but also want to ensure decent precision, the Logistic Regression model with class weight adjustment seems to be the better choice based on the results you've shared. \n",
    "\n",
    "This model has a higher recall for the minority class (Churn) of 0.83, which means it is better at identifying positive instances. Although its precision for the minority class is lower than the ensemble model at 0.52, it's still decent.\n",
    "\n",
    "Remember, the choice of model depends on your specific requirements and the trade-off between precision and recall that you're willing to accept. It's always a good idea to experiment with different models, features, and techniques to find the best solution for your specific task."
   ]
  },
  {
   "cell_type": "markdown",
   "metadata": {},
   "source": [
    "For a classification problem like churn prediction, a confusion matrix or a ROC curve would be more suitable visualizations.\n",
    "\n",
    "A **confusion matrix** gives a detailed breakdown of the model’s performance, showing the true positives, true negatives, false positives, and false negatives.\n",
    "\n",
    "A **ROC curve (Receiver Operating Characteristic curve)** is a plot that illustrates the diagnostic ability of a binary classifier system as its discrimination threshold is varied. The ROC curve is created by plotting the true positive rate (TPR) against the false positive rate (FPR)."
   ]
  },
  {
   "cell_type": "markdown",
   "metadata": {},
   "source": [
    "## Confusion Matrix and ROC Curve For Ensembled model"
   ]
  },
  {
   "cell_type": "code",
   "execution_count": 114,
   "metadata": {},
   "outputs": [
    {
     "data": {
      "image/png": "[encoded data removed]",
      "text/plain": [
       "<Figure size 500x500 with 2 Axes>"
      ]
     },
     "metadata": {},
     "output_type": "display_data"
    },
    {
     "data": {
      "image/png": "[encoded data removed]",
      "text/plain": [
       "<Figure size 640x480 with 1 Axes>"
      ]
     },
     "metadata": {},
     "output_type": "display_data"
    }
   ],
   "source": [
    "from sklearn.metrics import confusion_matrix, roc_curve, auc\n",
    "\n",
    "# Generate confusion matrix\n",
    "cm = confusion_matrix(y_test, predictions)\n",
    "\n",
    "# Plot confusion matrix\n",
    "plt.figure(figsize=(5,5))\n",
    "sns.heatmap(cm, annot=True, fmt=\".0f\", linewidths=.5, square = True, cmap = 'Blues')\n",
    "plt.ylabel('Actual label')\n",
    "plt.xlabel('Predicted label')\n",
    "\n",
    "# Calculate the FPR and TPR for all thresholds of the classification\n",
    "fpr, tpr, threshold = roc_curve(y_test, predictions)\n",
    "roc_auc = auc(fpr, tpr)\n",
    "\n",
    "# Plot ROC curve\n",
    "plt.figure()\n",
    "plt.plot(fpr, tpr, label='ROC curve (area = %0.2f)' % roc_auc)\n",
    "plt.plot([0, 1], [0, 1],'r--')\n",
    "plt.xlim([0.0, 1.0])\n",
    "plt.ylim([0.0, 1.05])\n",
    "plt.xlabel('False Positive Rate')\n",
    "plt.ylabel('True Positive Rate')\n",
    "plt.title('Receiver operating characteristic')\n",
    "plt.legend(loc=\"lower right\")\n",
    "plt.show()"
   ]
  },
  {
   "cell_type": "markdown",
   "metadata": {},
   "source": [
    "## Hyperparameters Tunining"
   ]
  },
  {
   "cell_type": "code",
   "execution_count": 203,
   "metadata": {},
   "outputs": [
    {
     "name": "stdout",
     "output_type": "stream",
     "text": [
      "Fitting 3 folds for each of 1640 candidates, totalling 4920 fits\n"
     ]
    },
    {
     "name": "stderr",
     "output_type": "stream",
     "text": [
      "C:\\Users\\Adminpc2\\anaconda3\\Lib\\site-packages\\sklearn\\model_selection\\_validation.py:547: FitFailedWarning: \n",
      "720 fits failed out of a total of 4920.\n",
      "The score on these train-test partitions for these parameters will be set to nan.\n",
      "If these failures are not expected, you can try to debug them by setting error_score='raise'.\n",
      "\n",
      "Below are more details about the failures:\n",
      "--------------------------------------------------------------------------------\n",
      "600 fits failed with the following error:\n",
      "Traceback (most recent call last):\n",
      "  File \"C:\\Users\\Adminpc2\\anaconda3\\Lib\\site-packages\\sklearn\\model_selection\\_validation.py\", line 895, in _fit_and_score\n",
      "    estimator.fit(X_train, y_train, **fit_params)\n",
      "  File \"C:\\Users\\Adminpc2\\anaconda3\\Lib\\site-packages\\sklearn\\base.py\", line 1474, in wrapper\n",
      "    return fit_method(estimator, *args, **kwargs)\n",
      "           ^^^^^^^^^^^^^^^^^^^^^^^^^^^^^^^^^^^^^^\n",
      "  File \"C:\\Users\\Adminpc2\\anaconda3\\Lib\\site-packages\\sklearn\\linear_model\\_logistic.py\", line 1182, in fit\n",
      "    raise ValueError(\"l1_ratio must be specified when penalty is elasticnet.\")\n",
      "ValueError: l1_ratio must be specified when penalty is elasticnet.\n",
      "\n",
      "--------------------------------------------------------------------------------\n",
      "62 fits failed with the following error:\n",
      "Traceback (most recent call last):\n",
      "  File \"C:\\Users\\Adminpc2\\anaconda3\\Lib\\site-packages\\sklearn\\model_selection\\_validation.py\", line 895, in _fit_and_score\n",
      "    estimator.fit(X_train, y_train, **fit_params)\n",
      "  File \"C:\\Users\\Adminpc2\\anaconda3\\Lib\\site-packages\\sklearn\\base.py\", line 1467, in wrapper\n",
      "    estimator._validate_params()\n",
      "  File \"C:\\Users\\Adminpc2\\anaconda3\\Lib\\site-packages\\sklearn\\base.py\", line 666, in _validate_params\n",
      "    validate_parameter_constraints(\n",
      "  File \"C:\\Users\\Adminpc2\\anaconda3\\Lib\\site-packages\\sklearn\\utils\\_param_validation.py\", line 95, in validate_parameter_constraints\n",
      "    raise InvalidParameterError(\n",
      "sklearn.utils._param_validation.InvalidParameterError: The 'penalty' parameter of LogisticRegression must be a str among {'l1', 'l2', 'elasticnet'} or None. Got 'none' instead.\n",
      "\n",
      "--------------------------------------------------------------------------------\n",
      "58 fits failed with the following error:\n",
      "Traceback (most recent call last):\n",
      "  File \"C:\\Users\\Adminpc2\\anaconda3\\Lib\\site-packages\\sklearn\\model_selection\\_validation.py\", line 895, in _fit_and_score\n",
      "    estimator.fit(X_train, y_train, **fit_params)\n",
      "  File \"C:\\Users\\Adminpc2\\anaconda3\\Lib\\site-packages\\sklearn\\base.py\", line 1467, in wrapper\n",
      "    estimator._validate_params()\n",
      "  File \"C:\\Users\\Adminpc2\\anaconda3\\Lib\\site-packages\\sklearn\\base.py\", line 666, in _validate_params\n",
      "    validate_parameter_constraints(\n",
      "  File \"C:\\Users\\Adminpc2\\anaconda3\\Lib\\site-packages\\sklearn\\utils\\_param_validation.py\", line 95, in validate_parameter_constraints\n",
      "    raise InvalidParameterError(\n",
      "sklearn.utils._param_validation.InvalidParameterError: The 'penalty' parameter of LogisticRegression must be a str among {'l2', 'elasticnet', 'l1'} or None. Got 'none' instead.\n",
      "\n",
      "  warnings.warn(some_fits_failed_message, FitFailedWarning)\n",
      "C:\\Users\\Adminpc2\\anaconda3\\Lib\\site-packages\\sklearn\\model_selection\\_search.py:1051: UserWarning: One or more of the test scores are non-finite: [0.60649627 0.60702875 0.60649627 ...        nan        nan        nan]\n",
      "  warnings.warn(\n",
      "C:\\Users\\Adminpc2\\anaconda3\\Lib\\site-packages\\sklearn\\linear_model\\_logistic.py:469: ConvergenceWarning: lbfgs failed to converge (status=1):\n",
      "STOP: TOTAL NO. of ITERATIONS REACHED LIMIT.\n",
      "\n",
      "Increase the number of iterations (max_iter) or scale the data as shown in:\n",
      "    https://scikit-learn.org/stable/modules/preprocessing.html\n",
      "Please also refer to the documentation for alternative solver options:\n",
      "    https://scikit-learn.org/stable/modules/linear_model.html#logistic-regression\n",
      "  n_iter_i = _check_optimize_result(\n"
     ]
    },
    {
     "name": "stdout",
     "output_type": "stream",
     "text": [
      "              precision    recall  f1-score   support\n",
      "\n",
      "           0       0.92      0.72      0.81      1036\n",
      "           1       0.52      0.83      0.64       373\n",
      "\n",
      "    accuracy                           0.75      1409\n",
      "   macro avg       0.72      0.77      0.72      1409\n",
      "weighted avg       0.81      0.75      0.76      1409\n",
      "\n"
     ]
    },
    {
     "data": {
      "image/png": "[encoded data removed]",
      "text/plain": [
       "<Figure size 500x500 with 2 Axes>"
      ]
     },
     "metadata": {},
     "output_type": "display_data"
    },
    {
     "data": {
      "image/png": "[encoded data removed]",
      "text/plain": [
       "<Figure size 640x480 with 1 Axes>"
      ]
     },
     "metadata": {},
     "output_type": "display_data"
    }
   ],
   "source": [
    "from sklearn.linear_model import LogisticRegression\n",
    "from sklearn.metrics import classification_report, confusion_matrix, roc_curve, auc\n",
    "from sklearn.model_selection import GridSearchCV\n",
    "from sklearn.preprocessing import StandardScaler\n",
    "import matplotlib.pyplot as plt\n",
    "import seaborn as sns\n",
    "\n",
    "# Assume X_rfe and y are your features and target respectively\n",
    "X_train, X_test, y_train, y_test = train_test_split(X_rfe, y, test_size=0.2, random_state=42)\n",
    "\n",
    "# Scale only the 'tenure' and 'MonthlyCharges' features\n",
    "# scaler = StandardScaler()\n",
    "# X_train[['tenure', 'MonthlyCharges']] = scaler.fit_transform(X_train[['tenure', 'MonthlyCharges']])\n",
    "# X_test[['tenure', 'MonthlyCharges']] = scaler.transform(X_test[['tenure', 'MonthlyCharges']])\n",
    "\n",
    "# Define the parameter grid\n",
    "param_grid = [\n",
    "    {'penalty' : ['l1'], 'solver' : ['liblinear', 'saga'], 'C' : np.logspace(-4, 4, 20), 'max_iter' : list(range(100, 1001, 100))},\n",
    "    {'penalty' : ['l2'], 'solver' : ['lbfgs', 'newton-cg', 'liblinear', 'sag', 'saga'], 'C' : np.logspace(-4, 4, 20), 'max_iter' : list(range(100, 1001, 100))},\n",
    "    {'penalty' : ['elasticnet'], 'solver' : ['saga'], 'C' : np.logspace(-4, 4, 20), 'max_iter' : list(range(100, 1001, 100))},\n",
    "    {'penalty' : ['none'], 'solver' : ['lbfgs', 'newton-cg', 'sag', 'saga'], 'max_iter' : list(range(100, 1001, 100))}\n",
    "]\n",
    "\n",
    "\n",
    "# Create a logistic regression model with balanced class weights\n",
    "logreg = LogisticRegression(class_weight='balanced')\n",
    "\n",
    "# Instantiate the grid search model\n",
    "grid_search = GridSearchCV(estimator = logreg, param_grid = param_grid, \n",
    "                          cv = 3, n_jobs = -1, verbose = 2)\n",
    "\n",
    "# Fit the grid search to the data\n",
    "grid_search.fit(X_train, y_train)\n",
    "\n",
    "# Get the best estimator\n",
    "best_model = grid_search.best_estimator_\n",
    "\n",
    "# Make predictions with the best model\n",
    "best_predictions = best_model.predict(X_test)\n",
    "\n",
    "# Print classification report\n",
    "print(classification_report(y_test, best_predictions))\n",
    "\n",
    "# Generate confusion matrix\n",
    "cm = confusion_matrix(y_test, best_predictions)\n",
    "\n",
    "# Plot confusion matrix\n",
    "plt.figure(figsize=(5,5))\n",
    "sns.heatmap(cm, annot=True, fmt=\".0f\", linewidths=.5, square = True, cmap = 'Blues')\n",
    "plt.ylabel('Actual label')\n",
    "plt.xlabel('Predicted label')\n",
    "\n",
    "# Calculate the FPR and TPR for all thresholds of the classification\n",
    "fpr, tpr, threshold = roc_curve(y_test, best_predictions)\n",
    "roc_auc = auc(fpr, tpr)\n",
    "\n",
    "# Plot ROC curve\n",
    "plt.figure()\n",
    "plt.plot(fpr, tpr, label='ROC curve (area = %0.2f)' % roc_auc)\n",
    "plt.plot([0, 1], [0, 1],'r--')\n",
    "plt.xlim([0.0, 1.0])\n",
    "plt.ylim([0.0, 1.05])\n",
    "plt.xlabel('False Positive Rate')\n",
    "plt.ylabel('True Positive Rate')\n",
    "plt.title('Receiver operating characteristic')\n",
    "plt.legend(loc=\"lower right\")\n",
    "plt.show()"
   ]
  },
  {
   "cell_type": "markdown",
   "metadata": {},
   "source": [
    "Not Much change after Hyper Parameter Tuning infact the area of ROC curve was even less"
   ]
  },
  {
   "cell_type": "markdown",
   "metadata": {},
   "source": [
    "## Checking the Features in the training model"
   ]
  },
  {
   "cell_type": "code",
   "execution_count": 115,
   "metadata": {},
   "outputs": [
    {
     "name": "stdout",
     "output_type": "stream",
     "text": [
      "<class 'pandas.core.frame.DataFrame'>\n",
      "Index: 5634 entries, 2142 to 860\n",
      "Data columns (total 30 columns):\n",
      " #   Column                                   Non-Null Count  Dtype  \n",
      "---  ------                                   --------------  -----  \n",
      " 0   SeniorCitizen                            5634 non-null   int64  \n",
      " 1   tenure                                   5634 non-null   float64\n",
      " 2   MonthlyCharges                           5634 non-null   float64\n",
      " 3   TotalCharges                             5634 non-null   float64\n",
      " 4   gender_Female                            5634 non-null   float64\n",
      " 5   gender_Male                              5634 non-null   float64\n",
      " 6   Partner_No                               5634 non-null   float64\n",
      " 7   Partner_Yes                              5634 non-null   float64\n",
      " 8   Dependents_No                            5634 non-null   float64\n",
      " 9   Dependents_Yes                           5634 non-null   float64\n",
      " 10  MultipleLines_No                         5634 non-null   float64\n",
      " 11  MultipleLines_Yes                        5634 non-null   float64\n",
      " 12  InternetService_Fiber optic              5634 non-null   float64\n",
      " 13  OnlineSecurity_No                        5634 non-null   float64\n",
      " 14  OnlineBackup_No                          5634 non-null   float64\n",
      " 15  OnlineBackup_Yes                         5634 non-null   float64\n",
      " 16  DeviceProtection_No                      5634 non-null   float64\n",
      " 17  DeviceProtection_Yes                     5634 non-null   float64\n",
      " 18  TechSupport_No                           5634 non-null   float64\n",
      " 19  StreamingTV_No                           5634 non-null   float64\n",
      " 20  StreamingTV_Yes                          5634 non-null   float64\n",
      " 21  StreamingMovies_No                       5634 non-null   float64\n",
      " 22  StreamingMovies_Yes                      5634 non-null   float64\n",
      " 23  Contract_Month-to-month                  5634 non-null   float64\n",
      " 24  Contract_Two year                        5634 non-null   float64\n",
      " 25  PaperlessBilling_No                      5634 non-null   float64\n",
      " 26  PaperlessBilling_Yes                     5634 non-null   float64\n",
      " 27  PaymentMethod_Bank transfer (automatic)  5634 non-null   float64\n",
      " 28  PaymentMethod_Credit card (automatic)    5634 non-null   float64\n",
      " 29  PaymentMethod_Electronic check           5634 non-null   float64\n",
      "dtypes: float64(29), int64(1)\n",
      "memory usage: 1.3 MB\n",
      "None\n"
     ]
    }
   ],
   "source": [
    "# Print out the features along with their data types\n",
    "print(X_train.info())"
   ]
  },
  {
   "cell_type": "markdown",
   "metadata": {},
   "source": [
    "all these should be one hot encoded \"Gender,Partner,MultipleLines,InternetService, OnlineSecurity,OnlineBackup, DeviceProtection, StreamingTV,StreamingMovies, PaperlessBilling, PaymentMethod  and Contract\" for  \"Contract\" sinse we have \" Month-to-month, Two-year\" it will be transformed to Contract_Month-to-month and Contract_Two year, so in the drop down box there will be \"Month-to-month, and Two-year\" so if one is chosen the other will be given values equal to zero. And For \"InternetService\" add Fiber optic in brackets next to it and then a drop down of (Yes/No). For \"SeniorCitizen\" it will have a drop down of YES/NO which will be converted to binary wgere YES=1 AND NO=0. remeber for the encoded values YES=1 AND N0=0. \"TechSupport\" should be at 0 always so it cant be changed. PaymentMethod should e handled in a specila way where \"Bank transfer\" is mapped to \"PaymentMethod_Bank transfer (automatic)\" and  Credit card to \"PaymentMethod_Credit card (automatic)\",Electronic check to PaymentMethod_Electronic check\n",
    "\n",
    "cmd: streamlit run \"C:\\Users\\Adminpc2\\Desktop\\your_script.py\""
   ]
  },
  {
   "cell_type": "code",
   "execution_count": 125,
   "metadata": {},
   "outputs": [
    {
     "name": "stdout",
     "output_type": "stream",
     "text": [
      "2142    0.0\n",
      "1623    1.0\n",
      "6074    0.0\n",
      "1362    1.0\n",
      "6754    0.0\n",
      "Name: InternetService_Fiber optic, dtype: float64\n"
     ]
    }
   ],
   "source": [
    "# extract the data from the selected column\n",
    "my_column_data = X_train['InternetService_Fiber optic']\n",
    "#Now that you have the data from the desired column, you can explore it further\n",
    "print(my_column_data.head())"
   ]
  },
  {
   "cell_type": "markdown",
   "metadata": {},
   "source": [
    "## Save Model"
   ]
  },
  {
   "cell_type": "code",
   "execution_count": 158,
   "metadata": {},
   "outputs": [],
   "source": [
    "import pickle\n",
    "from sklearn.linear_model import LogisticRegression\n",
    "\n",
    "# Assuming X_train, y_train are already defined and preprocessed\n",
    "\n",
    "from sklearn.linear_model import LogisticRegression\n",
    "from sklearn.metrics import classification_report\n",
    "from sklearn.preprocessing import StandardScaler\n",
    "\n",
    "# Assume X_rfe and y are your features and target respectively\n",
    "X_train, X_test, y_train, y_test = train_test_split(X_rfe, y, test_size=0.2, random_state=42)\n",
    "\n",
    "# Scale only the 'tenure' and 'MonthlyCharges' features\n",
    "#scaler = StandardScaler()\n",
    "#X_train[['tenure', 'MonthlyCharges']] = scaler.fit_transform(X_train[['tenure', 'MonthlyCharges']])\n",
    "#X_test[['tenure', 'MonthlyCharges']] = scaler.transform(X_test[['tenure', 'MonthlyCharges']])\n",
    "\n",
    "# Create a logistic regression model with balanced class weights\n",
    "model = LogisticRegression(class_weight='balanced', max_iter=5000)\n",
    "\n",
    "# Train the model\n",
    "model.fit(X_train, y_train)\n",
    "\n",
    "# Save the model to disk\n",
    "with open('F:\\\\modelpikel\\\\model.pkl', 'wb') as model_file:\n",
    "    pickle.dump(model, model_file)\n"
   ]
  },
  {
   "cell_type": "markdown",
   "metadata": {},
   "source": [
    "## Predicting Features in the trained model\n",
    "\n",
    "SeniorCitizen: Whether the customer is a senior citizen (Yes/No)\n",
    "    \n",
    "Tenure: Number of months the customer has been with the company\n",
    "    \n",
    "MonthlyCharges: Monthly charges for the service\n",
    "    \n",
    "TotalCharges: Total charges over the customer’s tenure\n",
    "    \n",
    "Gender: Gender of the customer (Male/Female)\n",
    "    \n",
    "Partner: Whether the customer has a partner (Yes/No\n",
    "                                            )\n",
    "Dependents: Whether the customer has dependents (Yes/No)\n",
    "    \n",
    "MultipleLines: Whether the customer has multiple phone lines (Yes/No)\n",
    "    \n",
    "InternetService: Type of internet service (e.g., Fiber optic)\n",
    "    \n",
    "OnlineSecurity: Whether the customer has online security (Yes/No)\n",
    "    \n",
    "OnlineBackup: Whether the customer has online backup (Yes/No)\n",
    "    \n",
    "DeviceProtection: Whether the customer has device protection (Yes/No)\n",
    "    \n",
    "TechSupport: Whether the customer has tech support (Yes/No)\n",
    "    \n",
    "StreamingTV: Whether the customer uses streaming TV (Yes/No)\n",
    "    \n",
    "StreamingMovies: Whether the customer uses streaming movies (Yes/No)\n",
    "\n",
    "PaperlessBilling:(Yes/No)\n",
    "\n",
    "DeviceProtection: (Yes/No)\n",
    "\n",
    "PaymentMethod: Bank transfer;Credit card; Electronic check\n",
    "    \n",
    "Contract: Contract type (e.g., Month-to-month, Two-year)"
   ]
  },
  {
   "cell_type": "code",
   "execution_count": null,
   "metadata": {},
   "outputs": [],
   "source": [
    "import streamlit as st\n",
    "import pandas as pd\n",
    "import numpy as np\n",
    "import pickle\n",
    "\n",
    "# Load the trained model\n",
    "with open('F:\\\\modelpikel\\\\model.pkl', 'rb') as model_file:\n",
    "    model = pickle.load(model_file)    \n",
    "    \n",
    "    \n",
    "def one_hot_encode(input_data):\n",
    "    # One-hot encode the categorical features\n",
    "    categorical_features = ['Gender', 'Partner', 'MultipleLines', 'OnlineSecurity',\n",
    "                            'OnlineBackup', 'DeviceProtection', 'TechSupport',\n",
    "                            'StreamingTV', 'StreamingMovies', 'Contract', 'InternetService']\n",
    "    \n",
    "    # Convert 'Yes'/'No' to binary\n",
    "    binary_map = {'Yes': 1, 'No': 0}\n",
    "    for feature in categorical_features:\n",
    "        if feature in input_data:\n",
    "            # Check if the value is 'Yes' or 'No'\n",
    "            if input_data[feature] in binary_map:\n",
    "                input_data[feature] = binary_map[input_data[feature]]\n",
    "            else:\n",
    "                raise ValueError(f\"Unexpected value for {feature}: {input_data[feature]}\")\n",
    "    \n",
    "    # Special handling for 'Contract' feature\n",
    "    # ... rest of the code remains the same\n",
    "    \n",
    "    # Special handling for 'Contract' feature\n",
    "    input_data['Contract_Month-to-month'] = 1 if input_data['Contract'] == 'Month-to-month' else 0\n",
    "    input_data['Contract_Two-year'] = 1 if input_data['Contract'] == 'Two-year' else 0\n",
    "    del input_data['Contract']  # Remove the original 'Contract' feature\n",
    "    \n",
    "    # Special handling for 'InternetService' feature\n",
    "    input_data['InternetService_Fiber optic'] = binary_map[input_data['InternetService']]\n",
    "    del input_data['InternetService']  # Remove the original 'InternetService' feature\n",
    "    \n",
    "    return input_data\n",
    "\n",
    "# Streamlit app for user input and prediction\n",
    "def main():\n",
    "    st.title('Customer Prediction App')\n",
    "\n",
    "    with st.form(key='customer_input_form'):\n",
    "        # Dropdown for 'SeniorCitizen'\n",
    "        SeniorCitizen = st.selectbox('Senior Citizen', options=['Yes', 'No'])\n",
    "        SeniorCitizen = 1 if SeniorCitizen == 'Yes' else 0\n",
    "        \n",
    "       # Numeric inputs for 'Tenure' and 'MonthlyCharges' with min and max constraints\n",
    "        Tenure = st.number_input('Tenure (months)', min_value=0, max_value=72, value=32, step=1)\n",
    "        MonthlyCharges = st.number_input('Monthly Charges', min_value=17.00, max_value=118.00, value=64.76, step=0.01)\n",
    "\n",
    "       # Calculate 'TotalCharges' as 'Tenure' multiplied by 'MonthlyCharges'\n",
    "        TotalCharges = Tenure * MonthlyCharges\n",
    "\n",
    "        \n",
    "        # Dropdowns for categorical features\n",
    "        Gender = st.selectbox('Gender', options=['Male', 'Female'])\n",
    "        Partner = st.selectbox('Partner', options=['Yes', 'No'])\n",
    "        MultipleLines = st.selectbox('Multiple Lines', options=['Yes', 'No'])\n",
    "        InternetService = st.selectbox('Internet Service (Fiber optic)', options=['Yes', 'No'])\n",
    "        OnlineSecurity = st.selectbox('Online Security', options=['Yes', 'No'])\n",
    "        OnlineBackup = st.selectbox('Online Backup', options=['Yes', 'No'])\n",
    "        DeviceProtection = st.selectbox('Device Protection', options=['Yes', 'No'])\n",
    "        TechSupport = st.selectbox('Tech Support', options=['Yes', 'No'])\n",
    "        StreamingTV = st.selectbox('Streaming TV', options=['Yes', 'No'])\n",
    "        StreamingMovies = st.selectbox('Streaming Movies', options=['Yes', 'No'])\n",
    "        Contract = st.selectbox('Contract', options=['Month-to-month', 'Two-year'])\n",
    "        \n",
    "        submit_button = st.form_submit_button(label='Predict')\n",
    "        \n",
    "        if submit_button:\n",
    "            # Create a dictionary with the input data\n",
    "            input_data = {\n",
    "                'SeniorCitizen': SeniorCitizen,\n",
    "                'Tenure': Tenure,\n",
    "                'MonthlyCharges': MonthlyCharges,\n",
    "                'TotalCharges': TotalCharges,\n",
    "                'Gender': Gender,\n",
    "                'Partner': Partner,\n",
    "                'MultipleLines': MultipleLines,\n",
    "                'InternetService': InternetService,\n",
    "                'OnlineSecurity': OnlineSecurity,\n",
    "                'OnlineBackup': OnlineBackup,\n",
    "                'DeviceProtection': DeviceProtection,\n",
    "                'TechSupport': TechSupport,\n",
    "                'StreamingTV': StreamingTV,\n",
    "                'StreamingMovies': StreamingMovies,\n",
    "                'Contract': Contract\n",
    "            }\n",
    "            \n",
    "            # One-hot encode the input data\n",
    "            encoded_data = one_hot_encode(input_data)\n",
    "            \n",
    "            # Convert the input data to a DataFrame\n",
    "            input_df = pd.DataFrame([encoded_data])\n",
    "            \n",
    "            # Make a prediction\n",
    "            prediction = model.predict(input_df)\n",
    "            \n",
    "            # Display the prediction\n",
    "            st.write('Prediction:', prediction[0])\n",
    "\n",
    "if __name__ == '__main__':\n",
    "    main()"
   ]
  },
  {
   "cell_type": "markdown",
   "metadata": {},
   "source": [
    "Yes, I followed your instructions for the preprocessing and Streamlit app code. Here's a recap of what was implemented based on your instructions:\n",
    "\n",
    "1. **One-Hot Encoding**: The categorical features 'Gender', 'Partner', 'MultipleLines', 'InternetService', 'OnlineSecurity', 'OnlineBackup', 'DeviceProtection', 'TechSupport', 'StreamingTV', 'StreamingMovies', and 'Contract' are one-hot encoded. This means that each category value is converted into a new binary feature (0 or 1).\n",
    "\n",
    "2. **Special Handling for 'Contract'**: For the 'Contract' feature, since we have 'Month-to-month' and 'Two-year' as options, they are transformed into two separate features: 'Contract_Month-to-month' and 'Contract_Two-year'. In the Streamlit app dropdown, if one is chosen, the other is given a value of zero.\n",
    "\n",
    "3. **Special Handling for 'InternetService'**: For 'InternetService', 'Fiber optic' is added in brackets next to it in the dropdown, and the options are 'Yes' and 'No'. This is then one-hot encoded.\n",
    "\n",
    "4. **Binary Conversion for 'SeniorCitizen'**: The 'SeniorCitizen' feature has a dropdown of 'YES'/'NO', which is converted to binary where 'YES' equals 1 and 'NO' equals 0.\n",
    "\n",
    "5. **Streamlit App Form**: The Streamlit app includes a form with dropdown boxes for the categorical features and numeric inputs for continuous features. The form is designed to be basic but neat and well-organized.\n",
    "\n",
    "6. **Preprocessing Function**: A preprocessing function called `one_hot_encode` is defined to handle the encoding of the input data before making a prediction with the model.\n",
    "\n",
    "7. **Model Loading**: The trained model is loaded from the specified file path 'F:\\modelpikel\\model.pkl'.\n",
    "\n",
    "8. **Prediction**: After the user submits the form, the input data is preprocessed and passed to the model to make a prediction, which is then displayed to the user.\n",
    "\n",
    "The Streamlit app code is structured to reflect these instructions, ensuring that the data entered through the app is preprocessed in the same way as the data used to train the model before it's passed to the model for prediction. \n",
    "\n",
    "If you need any further adjustments or have additional instructions, please let me know!"
   ]
  },
  {
   "cell_type": "code",
   "execution_count": 160,
   "metadata": {},
   "outputs": [],
   "source": [
    "# Assuming `model` is your trained model\n",
    "feature_names = model.feature_names_in_"
   ]
  },
  {
   "cell_type": "code",
   "execution_count": null,
   "metadata": {},
   "outputs": [],
   "source": []
  }
 ],
 "metadata": {
  "colab": {
   "provenance": []
  },
  "kernelspec": {
   "display_name": "Python 3 (ipykernel)",
   "language": "python",
   "name": "python3"
  },
  "language_info": {
   "codemirror_mode": {
    "name": "ipython",
    "version": 3
   },
   "file_extension": ".py",
   "mimetype": "text/x-python",
   "name": "python",
   "nbconvert_exporter": "python",
   "pygments_lexer": "ipython3",
   "version": "3.11.5"
  }
 },
 "nbformat": 4,
 "nbformat_minor": 1
}
